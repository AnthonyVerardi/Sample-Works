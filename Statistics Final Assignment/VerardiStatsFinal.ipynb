{
 "cells": [
  {
   "cell_type": "markdown",
   "metadata": {},
   "source": [
    "# LING 2010 Statistics for Linguistics Research Final Project <a name=\"TOP\"></a>\n",
    "Anthony Verardi | 4.22.2020 | a.verardi@pitt.edu | [GitHub](https://github.com/AnthonyVerardi)\n",
    "\n",
    "This Notebook was prepared as a \"final paper\" for **LING 2010: Statistics for Research in Linguistics** with [Dr. Melinda Fricke](http://www.pitt.edu/~mdf46/Home.html) at the University of Pittsburgh during the Spring 2020 semester.\n",
    "\n",
    "All of the data presented in this Notebook comes from a personally modified version of the [Arabic Learner Corpus](https://arabiclearnercorpus.com) (ALC), which is freely available for download, modification, and redistribution under a [Creative Commons Attribution-NonCommercial 4.0 International (CC BY-NC 4.0) license](https://creativecommons.org/licenses/by-nc/4.0/).\n",
    "\n",
    "**Table of Contents**\n",
    "1. [Data Synopsis](#DS)\n",
    "1. [Hypothesis](#HYP)\n",
    "    1. [Chi-Squared Predictions](#CH2P)\n",
    "    1. [Mixed-Effects Linear Regression Predictions](#MERP)\n",
    "1. [Test 1: Chi-Squared Test](#CH2)\n",
    "    1. [Meeting Assumptions](#MA1)\n",
    "    1. [Code Walkthrough](#CW1)\n",
    "    1. [Visualizations](#VIS1)\n",
    "    1. [Interpretation](#INT1)\n",
    "1. [Test 2: Linear Mixed-Effects Regression](#MER)\n",
    "    1. [Meeting Assumptions](#MA2)\n",
    "    1. [Code Walkthrough](#CW2)\n",
    "    1. [Visualizations](#VIS2)\n",
    "    1. [Interpretation](#INT2)\n",
    "1. [Works Referenced](#WR)"
   ]
  },
  {
   "cell_type": "markdown",
   "metadata": {},
   "source": [
    "## 1. Data Synopsis <a name=\"DS\"></a>\n",
    "\n",
    "The data from the ALC were collected in Saudi Arabia in 2012 and 2013, featuring both written and spoken responses to one of two prompt genres: \n",
    "* a **narrative** detailing their favorite vacation ever taken\n",
    "* a **discussion** of their academic plan of study\n",
    "\n",
    "All 942 participants were learners of Modern Standard Arabic (MSA), although nearly half of all responses collected come from L1 Arabic speakers of a local dialect (790 out of 1,585 total responses). The other half of the participants come from a variety of language and geopolitical backgrounds. The full dataset includes the raw text in Arabic of each participant's response.\n",
    "\n",
    "The modified dataset that I'm using for this analysis only contains a portion of the metadata columns that the original had to offer and does not include the full text responses (exporting from Python to a .csv proved problematic for preserving Arabic-language texts). In detail, the 16 columns used are:\n",
    "\n",
    "* 'Participant': a unique participant identifier starting with S and followed by 3 digits; truncated from the original system\n",
    "* 'TestNumber': the number of the test represented by the specific observation of data from a given participant. TestNumber of 2 indicates that this is the participant's *second test recorded,* for example. Ranges from 1-5.\n",
    "* 'L1': the first language of the participant\n",
    "* 'L1family': the broader language family to which the participant's L1 belongs\n",
    "* 'NumLangs': the number of languages known by the participant, ranging from 1-10\n",
    "* 'Nationality': the nationality of the participant, 67 nationalities represented\n",
    "* 'Age': the age of the participant, ranges from 16-42\n",
    "* 'Gender': the gender of the participant, here only given as \"Female\" or \"Male\"\n",
    "* 'YearsStudy': how many years the participant has studied MSA, ranges from 0-19\n",
    "* 'GenLvl': whether the participant is pre or post-university in their studies\n",
    "* 'LvlStdy': whether the participant is in a BA program, MA program, diploma course, language school, or secondary school\n",
    "* 'Genre': the genre of the text as mentioned above, either narrative or discussion\n",
    "* 'Mode': whether the text was recorded as writing or speech\n",
    "* 'TextLen': the length of the text in words (*not* morphological units)\n",
    "* 'TitleLen': the length of the text's title in words (*not* morphological units)\n",
    "* 'TTR': the type/token ratio found in the text, i.e. the ratio of unique word **types** to total number of word **tokens**"
   ]
  },
  {
   "cell_type": "code",
   "execution_count": 1,
   "metadata": {},
   "outputs": [
    {
     "name": "stderr",
     "output_type": "stream",
     "text": [
      "Warning message:\n",
      "\"package 'car' was built under R version 3.6.2\"Loading required package: carData\n",
      "Warning message:\n",
      "\"package 'ggplot2' was built under R version 3.6.2\"Warning message:\n",
      "\"package 'lme4' was built under R version 3.6.3\"Loading required package: Matrix\n",
      "Registered S3 methods overwritten by 'lme4':\n",
      "  method                          from\n",
      "  cooks.distance.influence.merMod car \n",
      "  influence.merMod                car \n",
      "  dfbeta.influence.merMod         car \n",
      "  dfbetas.influence.merMod        car \n",
      "Warning message:\n",
      "\"package 'reshape' was built under R version 3.6.3\"\n",
      "Attaching package: 'reshape'\n",
      "\n",
      "The following object is masked from 'package:Matrix':\n",
      "\n",
      "    expand\n",
      "\n",
      "Warning message:\n",
      "\"package 'vcd' was built under R version 3.6.3\"Loading required package: grid\n"
     ]
    }
   ],
   "source": [
    "# Loading in necessary packages for this paper\n",
    "\n",
    "library(car)\n",
    "library(ggplot2)\n",
    "library(lme4)\n",
    "library(reshape)\n",
    "library(vcd)"
   ]
  },
  {
   "cell_type": "code",
   "execution_count": 2,
   "metadata": {},
   "outputs": [],
   "source": [
    "# Reading in a .csv file that contains all of the relevant corpus data we'll be using from the ALC\n",
    "# and saving the full table as an object in R\n",
    "read.csv(\"ArabicLearnerCorpus.csv\") -> ALC"
   ]
  },
  {
   "cell_type": "code",
   "execution_count": 3,
   "metadata": {},
   "outputs": [
    {
     "data": {
      "text/html": [
       "<table>\n",
       "<thead><tr><th scope=col>Participant</th><th scope=col>TestNumber</th><th scope=col>L1</th><th scope=col>L1family</th><th scope=col>NumLangs</th><th scope=col>Nationality</th><th scope=col>Age</th><th scope=col>Gender</th><th scope=col>YearsStudy</th><th scope=col>GenLvl</th><th scope=col>LvlStdy</th><th scope=col>Genre</th><th scope=col>Mode</th><th scope=col>TextLen</th><th scope=col>TitleLen</th><th scope=col>TTR</th></tr></thead>\n",
       "<tbody>\n",
       "\t<tr><td>S001          </td><td>1             </td><td>Moore         </td><td>NigerCongo    </td><td>4             </td><td>Burkina Faso  </td><td>20            </td><td>Male          </td><td>14            </td><td>Pre-university</td><td>Diploma course</td><td>Narrative     </td><td>Written       </td><td>169           </td><td>6             </td><td>0.7988166     </td></tr>\n",
       "\t<tr><td>S001          </td><td>2             </td><td>Moore         </td><td>NigerCongo    </td><td>4             </td><td>Burkina Faso  </td><td>20            </td><td>Male          </td><td>14            </td><td>Pre-university</td><td>Diploma course</td><td>Discussion    </td><td>Written       </td><td>161           </td><td>9             </td><td>0.8447205     </td></tr>\n",
       "\t<tr><td>S002          </td><td>1             </td><td>Russian       </td><td>Slavic        </td><td>5             </td><td>Russian       </td><td>25            </td><td>Male          </td><td> 5            </td><td>Pre-university</td><td>Diploma course</td><td>Narrative     </td><td>Written       </td><td>317           </td><td>3             </td><td>0.6372240     </td></tr>\n",
       "\t<tr><td>S002          </td><td>2             </td><td>Russian       </td><td>Slavic        </td><td>5             </td><td>Russian       </td><td>25            </td><td>Male          </td><td> 5            </td><td>Pre-university</td><td>Diploma course</td><td>Discussion    </td><td>Written       </td><td>173           </td><td>3             </td><td>0.7572254     </td></tr>\n",
       "\t<tr><td>S003          </td><td>1             </td><td>Tatar         </td><td>Turkic        </td><td>4             </td><td>Russian       </td><td>24            </td><td>Male          </td><td> 6            </td><td>Pre-university</td><td>Diploma course</td><td>Narrative     </td><td>Written       </td><td>133           </td><td>3             </td><td>0.7669173     </td></tr>\n",
       "\t<tr><td>S003          </td><td>2             </td><td>Tatar         </td><td>Turkic        </td><td>4             </td><td>Russian       </td><td>24            </td><td>Male          </td><td> 6            </td><td>Pre-university</td><td>Diploma course</td><td>Discussion    </td><td>Written       </td><td> 70           </td><td>3             </td><td>0.7285714     </td></tr>\n",
       "</tbody>\n",
       "</table>\n"
      ],
      "text/latex": [
       "\\begin{tabular}{r|llllllllllllllll}\n",
       " Participant & TestNumber & L1 & L1family & NumLangs & Nationality & Age & Gender & YearsStudy & GenLvl & LvlStdy & Genre & Mode & TextLen & TitleLen & TTR\\\\\n",
       "\\hline\n",
       "\t S001           & 1              & Moore          & NigerCongo     & 4              & Burkina Faso   & 20             & Male           & 14             & Pre-university & Diploma course & Narrative      & Written        & 169            & 6              & 0.7988166     \\\\\n",
       "\t S001           & 2              & Moore          & NigerCongo     & 4              & Burkina Faso   & 20             & Male           & 14             & Pre-university & Diploma course & Discussion     & Written        & 161            & 9              & 0.8447205     \\\\\n",
       "\t S002           & 1              & Russian        & Slavic         & 5              & Russian        & 25             & Male           &  5             & Pre-university & Diploma course & Narrative      & Written        & 317            & 3              & 0.6372240     \\\\\n",
       "\t S002           & 2              & Russian        & Slavic         & 5              & Russian        & 25             & Male           &  5             & Pre-university & Diploma course & Discussion     & Written        & 173            & 3              & 0.7572254     \\\\\n",
       "\t S003           & 1              & Tatar          & Turkic         & 4              & Russian        & 24             & Male           &  6             & Pre-university & Diploma course & Narrative      & Written        & 133            & 3              & 0.7669173     \\\\\n",
       "\t S003           & 2              & Tatar          & Turkic         & 4              & Russian        & 24             & Male           &  6             & Pre-university & Diploma course & Discussion     & Written        &  70            & 3              & 0.7285714     \\\\\n",
       "\\end{tabular}\n"
      ],
      "text/markdown": [
       "\n",
       "| Participant | TestNumber | L1 | L1family | NumLangs | Nationality | Age | Gender | YearsStudy | GenLvl | LvlStdy | Genre | Mode | TextLen | TitleLen | TTR |\n",
       "|---|---|---|---|---|---|---|---|---|---|---|---|---|---|---|---|\n",
       "| S001           | 1              | Moore          | NigerCongo     | 4              | Burkina Faso   | 20             | Male           | 14             | Pre-university | Diploma course | Narrative      | Written        | 169            | 6              | 0.7988166      |\n",
       "| S001           | 2              | Moore          | NigerCongo     | 4              | Burkina Faso   | 20             | Male           | 14             | Pre-university | Diploma course | Discussion     | Written        | 161            | 9              | 0.8447205      |\n",
       "| S002           | 1              | Russian        | Slavic         | 5              | Russian        | 25             | Male           |  5             | Pre-university | Diploma course | Narrative      | Written        | 317            | 3              | 0.6372240      |\n",
       "| S002           | 2              | Russian        | Slavic         | 5              | Russian        | 25             | Male           |  5             | Pre-university | Diploma course | Discussion     | Written        | 173            | 3              | 0.7572254      |\n",
       "| S003           | 1              | Tatar          | Turkic         | 4              | Russian        | 24             | Male           |  6             | Pre-university | Diploma course | Narrative      | Written        | 133            | 3              | 0.7669173      |\n",
       "| S003           | 2              | Tatar          | Turkic         | 4              | Russian        | 24             | Male           |  6             | Pre-university | Diploma course | Discussion     | Written        |  70            | 3              | 0.7285714      |\n",
       "\n"
      ],
      "text/plain": [
       "  Participant TestNumber L1      L1family   NumLangs Nationality  Age Gender\n",
       "1 S001        1          Moore   NigerCongo 4        Burkina Faso 20  Male  \n",
       "2 S001        2          Moore   NigerCongo 4        Burkina Faso 20  Male  \n",
       "3 S002        1          Russian Slavic     5        Russian      25  Male  \n",
       "4 S002        2          Russian Slavic     5        Russian      25  Male  \n",
       "5 S003        1          Tatar   Turkic     4        Russian      24  Male  \n",
       "6 S003        2          Tatar   Turkic     4        Russian      24  Male  \n",
       "  YearsStudy GenLvl         LvlStdy        Genre      Mode    TextLen TitleLen\n",
       "1 14         Pre-university Diploma course Narrative  Written 169     6       \n",
       "2 14         Pre-university Diploma course Discussion Written 161     9       \n",
       "3  5         Pre-university Diploma course Narrative  Written 317     3       \n",
       "4  5         Pre-university Diploma course Discussion Written 173     3       \n",
       "5  6         Pre-university Diploma course Narrative  Written 133     3       \n",
       "6  6         Pre-university Diploma course Discussion Written  70     3       \n",
       "  TTR      \n",
       "1 0.7988166\n",
       "2 0.8447205\n",
       "3 0.6372240\n",
       "4 0.7572254\n",
       "5 0.7669173\n",
       "6 0.7285714"
      ]
     },
     "metadata": {},
     "output_type": "display_data"
    }
   ],
   "source": [
    "# Examining the first six rows to make sure the import went smoothly, and to show how the data is formatted\n",
    "head(ALC)"
   ]
  },
  {
   "cell_type": "markdown",
   "metadata": {},
   "source": [
    "The following cell is intended to verify that our data has been loaded properly:"
   ]
  },
  {
   "cell_type": "code",
   "execution_count": 4,
   "metadata": {},
   "outputs": [
    {
     "data": {
      "text/html": [
       "<ol class=list-inline>\n",
       "\t<li>1585</li>\n",
       "\t<li>16</li>\n",
       "</ol>\n"
      ],
      "text/latex": [
       "\\begin{enumerate*}\n",
       "\\item 1585\n",
       "\\item 16\n",
       "\\end{enumerate*}\n"
      ],
      "text/markdown": [
       "1. 1585\n",
       "2. 16\n",
       "\n",
       "\n"
      ],
      "text/plain": [
       "[1] 1585   16"
      ]
     },
     "metadata": {},
     "output_type": "display_data"
    },
    {
     "data": {
      "text/html": [
       "<ol class=list-inline>\n",
       "\t<li>'Participant'</li>\n",
       "\t<li>'TestNumber'</li>\n",
       "\t<li>'L1'</li>\n",
       "\t<li>'L1family'</li>\n",
       "\t<li>'NumLangs'</li>\n",
       "\t<li>'Nationality'</li>\n",
       "\t<li>'Age'</li>\n",
       "\t<li>'Gender'</li>\n",
       "\t<li>'YearsStudy'</li>\n",
       "\t<li>'GenLvl'</li>\n",
       "\t<li>'LvlStdy'</li>\n",
       "\t<li>'Genre'</li>\n",
       "\t<li>'Mode'</li>\n",
       "\t<li>'TextLen'</li>\n",
       "\t<li>'TitleLen'</li>\n",
       "\t<li>'TTR'</li>\n",
       "</ol>\n"
      ],
      "text/latex": [
       "\\begin{enumerate*}\n",
       "\\item 'Participant'\n",
       "\\item 'TestNumber'\n",
       "\\item 'L1'\n",
       "\\item 'L1family'\n",
       "\\item 'NumLangs'\n",
       "\\item 'Nationality'\n",
       "\\item 'Age'\n",
       "\\item 'Gender'\n",
       "\\item 'YearsStudy'\n",
       "\\item 'GenLvl'\n",
       "\\item 'LvlStdy'\n",
       "\\item 'Genre'\n",
       "\\item 'Mode'\n",
       "\\item 'TextLen'\n",
       "\\item 'TitleLen'\n",
       "\\item 'TTR'\n",
       "\\end{enumerate*}\n"
      ],
      "text/markdown": [
       "1. 'Participant'\n",
       "2. 'TestNumber'\n",
       "3. 'L1'\n",
       "4. 'L1family'\n",
       "5. 'NumLangs'\n",
       "6. 'Nationality'\n",
       "7. 'Age'\n",
       "8. 'Gender'\n",
       "9. 'YearsStudy'\n",
       "10. 'GenLvl'\n",
       "11. 'LvlStdy'\n",
       "12. 'Genre'\n",
       "13. 'Mode'\n",
       "14. 'TextLen'\n",
       "15. 'TitleLen'\n",
       "16. 'TTR'\n",
       "\n",
       "\n"
      ],
      "text/plain": [
       " [1] \"Participant\" \"TestNumber\"  \"L1\"          \"L1family\"    \"NumLangs\"   \n",
       " [6] \"Nationality\" \"Age\"         \"Gender\"      \"YearsStudy\"  \"GenLvl\"     \n",
       "[11] \"LvlStdy\"     \"Genre\"       \"Mode\"        \"TextLen\"     \"TitleLen\"   \n",
       "[16] \"TTR\"        "
      ]
     },
     "metadata": {},
     "output_type": "display_data"
    }
   ],
   "source": [
    "# First prints out the dimensions of our dataset (rows x columns), then the column names\n",
    "dim(ALC)\n",
    "names(ALC)"
   ]
  },
  {
   "cell_type": "markdown",
   "metadata": {},
   "source": [
    "Additionally, for the current project, it will be necessary to add another column that has either \"short\", \"medium\", or \"long\" as a categorical label based on the response's length. The gradations of this new category were based on the observed *median* of the \"TextLen\" column (149), since outliers are very likely pulling the mean up to 185 in this dataset.  \"Short\" responses have 150 words or fewer, \"medium\" responses are between 151-300 words, and \"long\" responses have 301 or more words."
   ]
  },
  {
   "cell_type": "code",
   "execution_count": 5,
   "metadata": {},
   "outputs": [],
   "source": [
    "ALC$TextLen -> ALC$LenCats # Duplicating the text lengths into a new column (\"length as categories\")\n",
    "factor(ALC$LenCats, levels = c(\"short\", \"med\", \"long\")) -> ALC$LenCats # Creating level names for \"short\", \"medium\", and \"long\" text categories"
   ]
  },
  {
   "cell_type": "code",
   "execution_count": 6,
   "metadata": {},
   "outputs": [],
   "source": [
    "ALC[ALC$TextLen <= 150, ]$LenCats <- \"short\"\n",
    "ALC[ALC$TextLen >= 151 & ALC$TextLen <= 300, ]$LenCats <- \"med\"\n",
    "ALC[ALC$TextLen >= 301, ]$LenCats <- \"long\""
   ]
  },
  {
   "cell_type": "code",
   "execution_count": 7,
   "metadata": {},
   "outputs": [
    {
     "data": {
      "text/html": [
       "<table>\n",
       "<thead><tr><th scope=col>Participant</th><th scope=col>TestNumber</th><th scope=col>L1</th><th scope=col>L1family</th><th scope=col>NumLangs</th><th scope=col>Nationality</th><th scope=col>Age</th><th scope=col>Gender</th><th scope=col>YearsStudy</th><th scope=col>GenLvl</th><th scope=col>LvlStdy</th><th scope=col>Genre</th><th scope=col>Mode</th><th scope=col>TextLen</th><th scope=col>TitleLen</th><th scope=col>TTR</th><th scope=col>LenCats</th></tr></thead>\n",
       "<tbody>\n",
       "\t<tr><td>S001          </td><td>1             </td><td>Moore         </td><td>NigerCongo    </td><td>4             </td><td>Burkina Faso  </td><td>20            </td><td>Male          </td><td>14            </td><td>Pre-university</td><td>Diploma course</td><td>Narrative     </td><td>Written       </td><td>169           </td><td>6             </td><td>0.7988166     </td><td>med           </td></tr>\n",
       "\t<tr><td>S001          </td><td>2             </td><td>Moore         </td><td>NigerCongo    </td><td>4             </td><td>Burkina Faso  </td><td>20            </td><td>Male          </td><td>14            </td><td>Pre-university</td><td>Diploma course</td><td>Discussion    </td><td>Written       </td><td>161           </td><td>9             </td><td>0.8447205     </td><td>med           </td></tr>\n",
       "\t<tr><td>S002          </td><td>1             </td><td>Russian       </td><td>Slavic        </td><td>5             </td><td>Russian       </td><td>25            </td><td>Male          </td><td> 5            </td><td>Pre-university</td><td>Diploma course</td><td>Narrative     </td><td>Written       </td><td>317           </td><td>3             </td><td>0.6372240     </td><td>long          </td></tr>\n",
       "\t<tr><td>S002          </td><td>2             </td><td>Russian       </td><td>Slavic        </td><td>5             </td><td>Russian       </td><td>25            </td><td>Male          </td><td> 5            </td><td>Pre-university</td><td>Diploma course</td><td>Discussion    </td><td>Written       </td><td>173           </td><td>3             </td><td>0.7572254     </td><td>med           </td></tr>\n",
       "\t<tr><td>S003          </td><td>1             </td><td>Tatar         </td><td>Turkic        </td><td>4             </td><td>Russian       </td><td>24            </td><td>Male          </td><td> 6            </td><td>Pre-university</td><td>Diploma course</td><td>Narrative     </td><td>Written       </td><td>133           </td><td>3             </td><td>0.7669173     </td><td>short         </td></tr>\n",
       "\t<tr><td>S003          </td><td>2             </td><td>Tatar         </td><td>Turkic        </td><td>4             </td><td>Russian       </td><td>24            </td><td>Male          </td><td> 6            </td><td>Pre-university</td><td>Diploma course</td><td>Discussion    </td><td>Written       </td><td> 70           </td><td>3             </td><td>0.7285714     </td><td>short         </td></tr>\n",
       "</tbody>\n",
       "</table>\n"
      ],
      "text/latex": [
       "\\begin{tabular}{r|lllllllllllllllll}\n",
       " Participant & TestNumber & L1 & L1family & NumLangs & Nationality & Age & Gender & YearsStudy & GenLvl & LvlStdy & Genre & Mode & TextLen & TitleLen & TTR & LenCats\\\\\n",
       "\\hline\n",
       "\t S001           & 1              & Moore          & NigerCongo     & 4              & Burkina Faso   & 20             & Male           & 14             & Pre-university & Diploma course & Narrative      & Written        & 169            & 6              & 0.7988166      & med           \\\\\n",
       "\t S001           & 2              & Moore          & NigerCongo     & 4              & Burkina Faso   & 20             & Male           & 14             & Pre-university & Diploma course & Discussion     & Written        & 161            & 9              & 0.8447205      & med           \\\\\n",
       "\t S002           & 1              & Russian        & Slavic         & 5              & Russian        & 25             & Male           &  5             & Pre-university & Diploma course & Narrative      & Written        & 317            & 3              & 0.6372240      & long          \\\\\n",
       "\t S002           & 2              & Russian        & Slavic         & 5              & Russian        & 25             & Male           &  5             & Pre-university & Diploma course & Discussion     & Written        & 173            & 3              & 0.7572254      & med           \\\\\n",
       "\t S003           & 1              & Tatar          & Turkic         & 4              & Russian        & 24             & Male           &  6             & Pre-university & Diploma course & Narrative      & Written        & 133            & 3              & 0.7669173      & short         \\\\\n",
       "\t S003           & 2              & Tatar          & Turkic         & 4              & Russian        & 24             & Male           &  6             & Pre-university & Diploma course & Discussion     & Written        &  70            & 3              & 0.7285714      & short         \\\\\n",
       "\\end{tabular}\n"
      ],
      "text/markdown": [
       "\n",
       "| Participant | TestNumber | L1 | L1family | NumLangs | Nationality | Age | Gender | YearsStudy | GenLvl | LvlStdy | Genre | Mode | TextLen | TitleLen | TTR | LenCats |\n",
       "|---|---|---|---|---|---|---|---|---|---|---|---|---|---|---|---|---|\n",
       "| S001           | 1              | Moore          | NigerCongo     | 4              | Burkina Faso   | 20             | Male           | 14             | Pre-university | Diploma course | Narrative      | Written        | 169            | 6              | 0.7988166      | med            |\n",
       "| S001           | 2              | Moore          | NigerCongo     | 4              | Burkina Faso   | 20             | Male           | 14             | Pre-university | Diploma course | Discussion     | Written        | 161            | 9              | 0.8447205      | med            |\n",
       "| S002           | 1              | Russian        | Slavic         | 5              | Russian        | 25             | Male           |  5             | Pre-university | Diploma course | Narrative      | Written        | 317            | 3              | 0.6372240      | long           |\n",
       "| S002           | 2              | Russian        | Slavic         | 5              | Russian        | 25             | Male           |  5             | Pre-university | Diploma course | Discussion     | Written        | 173            | 3              | 0.7572254      | med            |\n",
       "| S003           | 1              | Tatar          | Turkic         | 4              | Russian        | 24             | Male           |  6             | Pre-university | Diploma course | Narrative      | Written        | 133            | 3              | 0.7669173      | short          |\n",
       "| S003           | 2              | Tatar          | Turkic         | 4              | Russian        | 24             | Male           |  6             | Pre-university | Diploma course | Discussion     | Written        |  70            | 3              | 0.7285714      | short          |\n",
       "\n"
      ],
      "text/plain": [
       "  Participant TestNumber L1      L1family   NumLangs Nationality  Age Gender\n",
       "1 S001        1          Moore   NigerCongo 4        Burkina Faso 20  Male  \n",
       "2 S001        2          Moore   NigerCongo 4        Burkina Faso 20  Male  \n",
       "3 S002        1          Russian Slavic     5        Russian      25  Male  \n",
       "4 S002        2          Russian Slavic     5        Russian      25  Male  \n",
       "5 S003        1          Tatar   Turkic     4        Russian      24  Male  \n",
       "6 S003        2          Tatar   Turkic     4        Russian      24  Male  \n",
       "  YearsStudy GenLvl         LvlStdy        Genre      Mode    TextLen TitleLen\n",
       "1 14         Pre-university Diploma course Narrative  Written 169     6       \n",
       "2 14         Pre-university Diploma course Discussion Written 161     9       \n",
       "3  5         Pre-university Diploma course Narrative  Written 317     3       \n",
       "4  5         Pre-university Diploma course Discussion Written 173     3       \n",
       "5  6         Pre-university Diploma course Narrative  Written 133     3       \n",
       "6  6         Pre-university Diploma course Discussion Written  70     3       \n",
       "  TTR       LenCats\n",
       "1 0.7988166 med    \n",
       "2 0.8447205 med    \n",
       "3 0.6372240 long   \n",
       "4 0.7572254 med    \n",
       "5 0.7669173 short  \n",
       "6 0.7285714 short  "
      ]
     },
     "metadata": {},
     "output_type": "display_data"
    }
   ],
   "source": [
    "# Should now show us the new column\n",
    "head(ALC)"
   ]
  },
  {
   "cell_type": "markdown",
   "metadata": {},
   "source": [
    "Lastly, before we start our analysis, let's check our text length data for outliers and remove them, since they could have some serious effects on our results."
   ]
  },
  {
   "cell_type": "code",
   "execution_count": 8,
   "metadata": {
    "scrolled": false
   },
   "outputs": [
    {
     "data": {
      "image/png": "[encoded data removed]",
      "text/plain": [
       "plot without title"
      ]
     },
     "metadata": {},
     "output_type": "display_data"
    }
   ],
   "source": [
    "# Visualizing scaled text length as standard deviations as a histogram\n",
    "options(repr.plot.width=5, repr.plot.height=5) # Resizing plot\n",
    "\n",
    "ggplot(ALC,aes(scale(TextLen))) + geom_histogram(bins=100)"
   ]
  },
  {
   "cell_type": "code",
   "execution_count": 9,
   "metadata": {},
   "outputs": [
    {
     "data": {
      "text/html": [
       "<ol class=list-inline>\n",
       "\t<li>1576</li>\n",
       "\t<li>17</li>\n",
       "</ol>\n"
      ],
      "text/latex": [
       "\\begin{enumerate*}\n",
       "\\item 1576\n",
       "\\item 17\n",
       "\\end{enumerate*}\n"
      ],
      "text/markdown": [
       "1. 1576\n",
       "2. 17\n",
       "\n",
       "\n"
      ],
      "text/plain": [
       "[1] 1576   17"
      ]
     },
     "metadata": {},
     "output_type": "display_data"
    }
   ],
   "source": [
    "# Removing outliers farther than 3 standard deviations from the mean and printing the new dimensions\n",
    "ALC[abs(scale(ALC$TextLen))<= 3,] -> ALCNO\n",
    "dim(ALCNO)"
   ]
  },
  {
   "cell_type": "code",
   "execution_count": 10,
   "metadata": {},
   "outputs": [
    {
     "data": {
      "image/png": "[encoded data removed]",
      "text/plain": [
       "plot without title"
      ]
     },
     "metadata": {},
     "output_type": "display_data"
    }
   ],
   "source": [
    "# Visualizing the reduced data set with outliers removed\n",
    "options(repr.plot.width=5, repr.plot.height=5) # Resizing plot\n",
    "\n",
    "ggplot(ALCNO,aes(scale(TextLen))) + geom_histogram(bins=100)"
   ]
  },
  {
   "cell_type": "markdown",
   "metadata": {},
   "source": [
    "This is better. It's still very much right-skewed, but it's usable for our purposes. All data are accounted for at 1,576 observations of data (post-outlier removal), 17 columns of information. Here are some quick stats for each column:"
   ]
  },
  {
   "cell_type": "code",
   "execution_count": 11,
   "metadata": {},
   "outputs": [
    {
     "data": {
      "text/plain": [
       "  Participant     TestNumber          L1              L1family  \n",
       " S016   :   5   Min.   :1.000   Arabic :785   Arabic      :785  \n",
       " S505   :   5   1st Qu.:1.000   Chinese: 76   NigerCongo  :176  \n",
       " S005   :   4   Median :1.000   Urdu   : 64   Austronesian:127  \n",
       " S007   :   4   Mean   :1.448   Malay  : 46   IndoIran    :126  \n",
       " S009   :   4   3rd Qu.:2.000   French : 44   SinoTib     : 76  \n",
       " S014   :   4   Max.   :5.000   Fulani : 36   Italic      : 48  \n",
       " (Other):1550                   (Other):525   (Other)     :238  \n",
       "    NumLangs        Nationality       Age          Gender       YearsStudy    \n",
       " Min.   : 1.000   Saudi   :717   Min.   :16.0   Female: 443   Min.   : 0.000  \n",
       " 1st Qu.: 1.000   Chinese : 74   1st Qu.:17.0   Male  :1133   1st Qu.: 0.000  \n",
       " Median : 2.000   Filipino: 74   Median :21.0                 Median : 0.000  \n",
       " Mean   : 2.342   Guinean : 48   Mean   :20.7                 Mean   : 2.402  \n",
       " 3rd Qu.: 3.000   Indian  : 42   3rd Qu.:23.0                 3rd Qu.: 3.000  \n",
       " Max.   :10.000   Thai    : 42   Max.   :42.0                 Max.   :19.000  \n",
       "                  (Other) :579                                                \n",
       "            GenLvl                 LvlStdy           Genre          Mode     \n",
       " Pre-university:1383   BA              :166   Discussion:664   Spoken :  56  \n",
       " University    : 193   Diploma course  :237   Narrative :912   Written:1520  \n",
       "                       Language course :518                                  \n",
       "                       MA              : 27                                  \n",
       "                       Secondary school:628                                  \n",
       "                                                                             \n",
       "                                                                             \n",
       "    TextLen          TitleLen           TTR          LenCats   \n",
       " Min.   :  3.00   Min.   : 0.000   Min.   :0.4709   short:804  \n",
       " 1st Qu.: 89.75   1st Qu.: 2.000   1st Qu.:0.6954   med  :583  \n",
       " Median :149.00   Median : 3.000   Median :0.7556   long :189  \n",
       " Mean   :174.69   Mean   : 2.957   Mean   :0.7557              \n",
       " 3rd Qu.:228.00   3rd Qu.: 4.000   3rd Qu.:0.8126              \n",
       " Max.   :890.00   Max.   :24.000   Max.   :1.0000              \n",
       "                                                               "
      ]
     },
     "metadata": {},
     "output_type": "display_data"
    }
   ],
   "source": [
    "summary(ALCNO)"
   ]
  },
  {
   "cell_type": "markdown",
   "metadata": {},
   "source": [
    "[Back to top](#TOP)"
   ]
  },
  {
   "cell_type": "markdown",
   "metadata": {},
   "source": [
    "## 2. Hypothesis <a name=\"HYP\"></a>\n",
    "\n",
    "The current work aims to explore one research question, namely: does **genre of response prompt** (narrative or discussion) have a statistically significant effect on **text length** in this dataset? Intuitively, one might expect that participants would produce lenghtier responses when asked about their favorite vacation as opposed to their plans of study, which they might not have as much to say about. Conversely, it may also be that \"plan of study\"-discussion responses will be longer because the act of talking about oneself in the active, present tense is generally thought of in language pedagogy as a \"lower-proficiency\" task (ex. ACTFL, CEFR guidelines) compared to past-tense narration. In either case, it stands to reason that the genre of task used to collect a response may have an effect on its length.\n",
    "\n",
    "The first way that I'll try to explore this question is by using a **Chi-Squared test,** and the second one is by using a **Mixed-Effects Linear Regression model.** The Chi-Squared test will rely on text length data that have been collapsed into \"short\", \"medium\", and \"long\" categorical groups, while the Mixed-Effects model will use the raw text length.\n",
    "\n",
    "### 2A. Chi-Squared Predictions <a name=\"CH2P\"></a>\n",
    "\n",
    "For the Chi-Squared test, I predict that the genre of the response will have a statistically significant effect on the length of the response, and that on average, we will see larger counts of longer texts than predicted for texts in the \"narrative\" genre category and shorter texts patterning with the \"discussion\" category. A Chi-Squared test is appropriate here since we're dealing with two types of categorical variable (Genre: \"narrative\" vs. \"discussion\" and length: \"short\", \"medium\", \"long\") that have count data in each cell, and it is unclear as to whether the levels of genre are independent from the levels of length. In summation, I predict that the proportion of responses observed will vary from the estimated levels by genre, that the variables of \"genre\" and \"length\" are associated with one another, and that narrative genre responses imply longer response texts.\n",
    "\n",
    "### 2B. Mixed-Effects Linear Regression Predictions <a name=\"MERP\"></a>\n",
    "\n",
    "For the Mixed-Effects Linear Regression model, I predict the same as I did for the Chi-Squared test: that the genre of the response will have a statistically significant effect on the length of the response, and that on average, we will see larger counts of longer texts than predicted for texts in the \"narrative\" genre category and shorter texts patterning with the \"discussion\" category. However, I will additionally include level of study (\"LvlStdy\") as a fixed effect as well, assuming that this may also affect text length (assuming that the higher a person's degree progress/level of education and hence their familiarity with the target language, the longer their response will likely be). Mixed-Effects modeling makes sense here because it will allow me to use the raw counts from my data instead of the categorical groups of \"short\", \"medium\", and \"long\" that were created for the Chi-Squared test; further, a Mixed-Effects model makes sense given that each row in the table represents one \"trial\" by a given participant, not some type of average across all trials or participants. This will remove a source of bias on my part in choosing what qualifies as a \"short/medium/long\" response. For this test, I will use \"Genre\" and \"LvlStudy\" as fixed effects (since there are discrete possible levels for both) and introduce a random effect of \"Participant\" into the model to account for individual variation.\n",
    "\n",
    "[Back to top](#TOP)"
   ]
  },
  {
   "cell_type": "markdown",
   "metadata": {},
   "source": [
    "## 3. Chi-Squared Test <a name=\"CH2\"></a>\n",
    "### 3A. Meeting Assumptions <a name=\"MA1\"></a>\n",
    "As Levshina points out, there are only two assumptions that must be met in order to perform a Chi-Squared test:\n",
    "\n",
    "1. The sample is *randomly selected from the population of interest* and *the observations are independent.* \n",
    "2. Every observation can be classiied into exactly one category according to the criterion represented by each variable (Conover 1999: 204–205).\n",
    "\n",
    "The second assumption provides no issue; each category is sufficiently different such that no response could go in either category. But the first assumption does actually pose a challenge: since our samples can be grouped by participant (some participants performed more than one test), we will have to account for that. I will do so by utilizing a subset of the corpus that only includes each participant's first test as a way of controlling for this.\n",
    "\n",
    "~After subsetting the data, another issue becomes apparent: one of the cells (Discussion:long) only has two observations recorded, which is below the 5-observation threshold for using a Chi-Squared test. Instead, I'll use a **Fisher's Exact Test**, although to save time on editing this notebook, I will continue to refer to this section as Chi-Squared.~\n",
    "\n",
    "After taking a moment to actually run both tests, it seems that using Chi-Squared as the actual test her may be a valid move. Unlike in Levshina's example on p.  213, running the Chi-Squared test on the subsetted data did not provide me with a warning message that the approximation may be incorrect. [This piece](https://towardsdatascience.com/fishers-exact-test-in-r-independence-test-for-a-small-sample-56965db48e87) also seems to indicate that the expected count cannot be lower than 5, but the observed counts may be.\n",
    "\n",
    "### 3B. Code Walkthrough <a name=\"CW1\"></a>"
   ]
  },
  {
   "cell_type": "code",
   "execution_count": 12,
   "metadata": {},
   "outputs": [
    {
     "data": {
      "text/html": [
       "<ol class=list-inline>\n",
       "\t<li>937</li>\n",
       "\t<li>17</li>\n",
       "</ol>\n"
      ],
      "text/latex": [
       "\\begin{enumerate*}\n",
       "\\item 937\n",
       "\\item 17\n",
       "\\end{enumerate*}\n"
      ],
      "text/markdown": [
       "1. 937\n",
       "2. 17\n",
       "\n",
       "\n"
      ],
      "text/plain": [
       "[1] 937  17"
      ]
     },
     "metadata": {},
     "output_type": "display_data"
    }
   ],
   "source": [
    "# Creating a subset of the ALC dataset where only the first trial from each participant is used\n",
    "subset(ALCNO, TestNumber == 1) -> ALC.chi\n",
    "dim(ALC.chi)"
   ]
  },
  {
   "cell_type": "code",
   "execution_count": 13,
   "metadata": {},
   "outputs": [
    {
     "data": {
      "text/plain": [
       "            \n",
       "             short med long\n",
       "  Discussion    27  32    2\n",
       "  Narrative    363 385  128"
      ]
     },
     "metadata": {},
     "output_type": "display_data"
    }
   ],
   "source": [
    "# Saving a table of genres and length categories as a variable for ease of use \n",
    "table(ALC.chi$Genre, ALC.chi$LenCats) -> chi\n",
    "chi"
   ]
  },
  {
   "cell_type": "code",
   "execution_count": 14,
   "metadata": {},
   "outputs": [
    {
     "data": {
      "text/html": [
       "<table>\n",
       "<thead><tr><th></th><th scope=col>short</th><th scope=col>med</th><th scope=col>long</th></tr></thead>\n",
       "<tbody>\n",
       "\t<tr><th scope=row>Discussion</th><td> 25.38954</td><td> 27.14728</td><td>  8.46318</td></tr>\n",
       "\t<tr><th scope=row>Narrative</th><td>364.61046</td><td>389.85272</td><td>121.53682</td></tr>\n",
       "</tbody>\n",
       "</table>\n"
      ],
      "text/latex": [
       "\\begin{tabular}{r|lll}\n",
       "  & short & med & long\\\\\n",
       "\\hline\n",
       "\tDiscussion &  25.38954 &  27.14728 &   8.46318\\\\\n",
       "\tNarrative & 364.61046 & 389.85272 & 121.53682\\\\\n",
       "\\end{tabular}\n"
      ],
      "text/markdown": [
       "\n",
       "| <!--/--> | short | med | long |\n",
       "|---|---|---|---|\n",
       "| Discussion |  25.38954 |  27.14728 |   8.46318 |\n",
       "| Narrative | 364.61046 | 389.85272 | 121.53682 |\n",
       "\n"
      ],
      "text/plain": [
       "            \n",
       "             short     med       long     \n",
       "  Discussion  25.38954  27.14728   8.46318\n",
       "  Narrative  364.61046 389.85272 121.53682"
      ]
     },
     "metadata": {},
     "output_type": "display_data"
    }
   ],
   "source": [
    "# Creating a table of *expected* values based on our data\n",
    "chisq.test(chi)$expected"
   ]
  },
  {
   "cell_type": "code",
   "execution_count": 15,
   "metadata": {},
   "outputs": [
    {
     "data": {
      "text/html": [
       "<table>\n",
       "<thead><tr><th></th><th scope=col>short</th><th scope=col>med</th><th scope=col>long</th></tr></thead>\n",
       "<tbody>\n",
       "\t<tr><th scope=row>Discussion</th><td>0.02709663</td><td>0.02897255</td><td>0.00903221</td></tr>\n",
       "\t<tr><th scope=row>Narrative</th><td>0.38912536</td><td>0.41606480</td><td>0.12970845</td></tr>\n",
       "</tbody>\n",
       "</table>\n"
      ],
      "text/latex": [
       "\\begin{tabular}{r|lll}\n",
       "  & short & med & long\\\\\n",
       "\\hline\n",
       "\tDiscussion & 0.02709663 & 0.02897255 & 0.00903221\\\\\n",
       "\tNarrative & 0.38912536 & 0.41606480 & 0.12970845\\\\\n",
       "\\end{tabular}\n"
      ],
      "text/markdown": [
       "\n",
       "| <!--/--> | short | med | long |\n",
       "|---|---|---|---|\n",
       "| Discussion | 0.02709663 | 0.02897255 | 0.00903221 |\n",
       "| Narrative | 0.38912536 | 0.41606480 | 0.12970845 |\n",
       "\n"
      ],
      "text/plain": [
       "            \n",
       "             short      med        long      \n",
       "  Discussion 0.02709663 0.02897255 0.00903221\n",
       "  Narrative  0.38912536 0.41606480 0.12970845"
      ]
     },
     "metadata": {},
     "output_type": "display_data"
    }
   ],
   "source": [
    "# Taking that same expected values table and turning them into proportions\n",
    "prop.table(chisq.test(chi)$expected)"
   ]
  },
  {
   "cell_type": "code",
   "execution_count": 16,
   "metadata": {},
   "outputs": [
    {
     "data": {
      "text/html": [
       "<table>\n",
       "<thead><tr><th scope=col>Var.1</th><th scope=col>Var.2</th><th scope=col>value</th></tr></thead>\n",
       "<tbody>\n",
       "\t<tr><td>Discussion</td><td>short     </td><td> 27       </td></tr>\n",
       "\t<tr><td>Narrative </td><td>short     </td><td>363       </td></tr>\n",
       "\t<tr><td>Discussion</td><td>med       </td><td> 32       </td></tr>\n",
       "\t<tr><td>Narrative </td><td>med       </td><td>385       </td></tr>\n",
       "\t<tr><td>Discussion</td><td>long      </td><td>  2       </td></tr>\n",
       "\t<tr><td>Narrative </td><td>long      </td><td>128       </td></tr>\n",
       "</tbody>\n",
       "</table>\n"
      ],
      "text/latex": [
       "\\begin{tabular}{r|lll}\n",
       " Var.1 & Var.2 & value\\\\\n",
       "\\hline\n",
       "\t Discussion & short      &  27       \\\\\n",
       "\t Narrative  & short      & 363       \\\\\n",
       "\t Discussion & med        &  32       \\\\\n",
       "\t Narrative  & med        & 385       \\\\\n",
       "\t Discussion & long       &   2       \\\\\n",
       "\t Narrative  & long       & 128       \\\\\n",
       "\\end{tabular}\n"
      ],
      "text/markdown": [
       "\n",
       "| Var.1 | Var.2 | value |\n",
       "|---|---|---|\n",
       "| Discussion | short      |  27        |\n",
       "| Narrative  | short      | 363        |\n",
       "| Discussion | med        |  32        |\n",
       "| Narrative  | med        | 385        |\n",
       "| Discussion | long       |   2        |\n",
       "| Narrative  | long       | 128        |\n",
       "\n"
      ],
      "text/plain": [
       "  Var.1      Var.2 value\n",
       "1 Discussion short  27  \n",
       "2 Narrative  short 363  \n",
       "3 Discussion med    32  \n",
       "4 Narrative  med   385  \n",
       "5 Discussion long    2  \n",
       "6 Narrative  long  128  "
      ]
     },
     "metadata": {},
     "output_type": "display_data"
    }
   ],
   "source": [
    "# Changing the \"wide\" table from above into a \"long\" one that ggplot will prefer\n",
    "melt(chi) -> chi.df\n",
    "chi.df"
   ]
  },
  {
   "cell_type": "code",
   "execution_count": 17,
   "metadata": {},
   "outputs": [
    {
     "data": {
      "text/html": [
       "<table>\n",
       "<thead><tr><th scope=col>Genre</th><th scope=col>Length</th><th scope=col>Frequency</th></tr></thead>\n",
       "<tbody>\n",
       "\t<tr><td>Discussion</td><td>short     </td><td> 27       </td></tr>\n",
       "\t<tr><td>Narrative </td><td>short     </td><td>363       </td></tr>\n",
       "\t<tr><td>Discussion</td><td>med       </td><td> 32       </td></tr>\n",
       "\t<tr><td>Narrative </td><td>med       </td><td>385       </td></tr>\n",
       "\t<tr><td>Discussion</td><td>long      </td><td>  2       </td></tr>\n",
       "\t<tr><td>Narrative </td><td>long      </td><td>128       </td></tr>\n",
       "</tbody>\n",
       "</table>\n"
      ],
      "text/latex": [
       "\\begin{tabular}{r|lll}\n",
       " Genre & Length & Frequency\\\\\n",
       "\\hline\n",
       "\t Discussion & short      &  27       \\\\\n",
       "\t Narrative  & short      & 363       \\\\\n",
       "\t Discussion & med        &  32       \\\\\n",
       "\t Narrative  & med        & 385       \\\\\n",
       "\t Discussion & long       &   2       \\\\\n",
       "\t Narrative  & long       & 128       \\\\\n",
       "\\end{tabular}\n"
      ],
      "text/markdown": [
       "\n",
       "| Genre | Length | Frequency |\n",
       "|---|---|---|\n",
       "| Discussion | short      |  27        |\n",
       "| Narrative  | short      | 363        |\n",
       "| Discussion | med        |  32        |\n",
       "| Narrative  | med        | 385        |\n",
       "| Discussion | long       |   2        |\n",
       "| Narrative  | long       | 128        |\n",
       "\n"
      ],
      "text/plain": [
       "  Genre      Length Frequency\n",
       "1 Discussion short   27      \n",
       "2 Narrative  short  363      \n",
       "3 Discussion med     32      \n",
       "4 Narrative  med    385      \n",
       "5 Discussion long     2      \n",
       "6 Narrative  long   128      "
      ]
     },
     "metadata": {},
     "output_type": "display_data"
    }
   ],
   "source": [
    "# Renaming columns to reflect their content more accurately\n",
    "colnames(chi.df) <- c(\"Genre\", \"Length\", \"Frequency\")\n",
    "chi.df"
   ]
  },
  {
   "cell_type": "code",
   "execution_count": 18,
   "metadata": {},
   "outputs": [
    {
     "data": {
      "text/plain": [
       "            \n",
       "                  short        med       long\n",
       "  Discussion 0.06923077 0.07673861 0.01538462\n",
       "  Narrative  0.93076923 0.92326139 0.98461538"
      ]
     },
     "metadata": {},
     "output_type": "display_data"
    }
   ],
   "source": [
    "# Changing raw values from the table into proportional values \n",
    "prop.table(chi,2)"
   ]
  },
  {
   "cell_type": "code",
   "execution_count": 19,
   "metadata": {},
   "outputs": [
    {
     "data": {
      "text/plain": [
       "\n",
       "\tPearson's Chi-squared test\n",
       "\n",
       "data:  chi\n",
       "X-squared = 6.3166, df = 2, p-value = 0.0425\n"
      ]
     },
     "metadata": {},
     "output_type": "display_data"
    }
   ],
   "source": [
    "# Running the actual Chi-Squared test; interpretation of results will follow in next subsection\n",
    "chisq.test(chi)"
   ]
  },
  {
   "cell_type": "code",
   "execution_count": 20,
   "metadata": {},
   "outputs": [
    {
     "data": {
      "text/plain": [
       "            \n",
       "                  short        med       long\n",
       "  Discussion  0.4326295  1.2930284 -2.4758837\n",
       "  Narrative  -0.4326295 -1.2930284  2.4758837"
      ]
     },
     "metadata": {},
     "output_type": "display_data"
    }
   ],
   "source": [
    "# Checking which (if any) residuals are having a statistically significant effect;\n",
    "# values above |1.96| typically considered significant\n",
    "\n",
    "chisq.test(chi)$stdres"
   ]
  },
  {
   "cell_type": "markdown",
   "metadata": {},
   "source": [
    "### 3C. Visualizations <a name=\"VIS1\"></a>\n",
    "Here, we'll visualize a few different parts of our data for the Chi-Squared test. Let's start by making a dodged bar graph that shows the distribution of long, medium, and short responses colored by prompt genre (narrative or discussion). "
   ]
  },
  {
   "cell_type": "code",
   "execution_count": 21,
   "metadata": {},
   "outputs": [
    {
     "name": "stderr",
     "output_type": "stream",
     "text": [
      "Saving 6.67 x 6.67 in image\n"
     ]
    },
    {
     "data": {
      "image/png": "[encoded data removed]",
      "text/plain": [
       "plot without title"
      ]
     },
     "metadata": {},
     "output_type": "display_data"
    }
   ],
   "source": [
    "# Using the Chi-Squared dataframe from before to plot the observed frequencies\n",
    "ggplot(chi.df, aes(Length, Frequency, fill=Genre))+ geom_bar(stat = \"identity\", position=\"dodge\") +\n",
    "xlab(\"Response Length\") +\n",
    "ggtitle(\"Response Length Frequencies in ALC by Genre\")\n",
    "\n",
    "# Saving the plot we just created in our current working directory as a 6.6x6.6 .png file\n",
    "ggsave(\"chiCategories.png\")"
   ]
  },
  {
   "cell_type": "markdown",
   "metadata": {},
   "source": [
    "The \"narrative\" category has significantly more observations in general than the narrative category, but this should not be an issue for a Chi-Squared test, since it operates on proportionality and does not necessitate an even distribution of data. Unsurprisingly, the \"long\" responses are also smaller in count than either the \"medium\" or \"short\" categories, which are relatively even with each other. Now let's visualize the actual results of the Chi-Squared test itself:"
   ]
  },
  {
   "cell_type": "code",
   "execution_count": 22,
   "metadata": {},
   "outputs": [
    {
     "data": {
      "text/html": [
       "<strong>png:</strong> 2"
      ],
      "text/latex": [
       "\\textbf{png:} 2"
      ],
      "text/markdown": [
       "**png:** 2"
      ],
      "text/plain": [
       "png \n",
       "  2 "
      ]
     },
     "metadata": {},
     "output_type": "display_data"
    },
    {
     "data": {
      "image/png": "[encoded data removed]",
      "text/plain": [
       "plot without title"
      ]
     },
     "metadata": {},
     "output_type": "display_data"
    }
   ],
   "source": [
    "# Creating an association matrix\n",
    "options(repr.plot.width=5, repr.plot.height=5) # Resizing plot\n",
    "\n",
    "assoc(chi, shade=T)\n",
    "\n",
    "# Saving it as a .png in our working directory\n",
    "png(\"chiAssoc.png\")\n",
    "assoc(chi, shade=T)\n",
    "dev.off()"
   ]
  },
  {
   "cell_type": "markdown",
   "metadata": {},
   "source": [
    "Based on this visualization, we may conclude that the \"long\" category is the only one for which there is a statistically significant effect to examine, and it does not appear to be a very strong one at that; more discussion to follow."
   ]
  },
  {
   "cell_type": "markdown",
   "metadata": {},
   "source": [
    "### 3D. Interpretation <a name=\"INT1\"></a>\n",
    "From comparing the output of the observed distribution of our categorical text length data against the expected values, we can see that there is some fluctuation between the two, but it seems to be relatively minor except for in the discussion:long cell (~9 expected, 2 observed). The actual Chi-Squared statistic is 6.3166, which does not seem to be \"large\" enough to safely conclude that there are large differences between actual and expected counts beyond what chance might give us. With a *p*-value of only .0425, a weakly significant relationship does exist, but I do not think I would risk my reputation on these results when making a claim. If standardized Pearson residual values above |1.96| are typically considered \"significant\" here and the \"discussion:long\" residual is only -2.476, and the overall *p*-value is .0425, it doesn't seem that genre is having a very strong or reliable effect at all, and this is the categorical relationship that seems to be contributing the most to our overall results.\n",
    "\n",
    "In summary: the variables \"Genre\" and \"Text Length\" are **not** independent, although the relationship between them is of weak significance (p <= .05) and the effect of genre on length seems most apparent and most impactful in the interaction between \"discussion\" prompts and \"long\" response lengths; discussion prompts do seem to weakly disfavor longer essays. All of the counts for discussion are actually lower than their expected values, but only \"long\" seems statistically significant; in other words, the initial hypothesis that narrative genre types would favor longer essays is cautiously correct at best (the evidence suggests that more testing may be necessary, and that other factors besides genre may be playing a role here) and may not hold up well under a different test (which may be (dis)proven in the next section by using a Mixed-Effects model)."
   ]
  },
  {
   "cell_type": "markdown",
   "metadata": {},
   "source": [
    "[Back to top](#TOP)"
   ]
  },
  {
   "cell_type": "markdown",
   "metadata": {},
   "source": [
    "## 4. Mixed-Effects Linear Regression <a name=\"MER\"></a>\n",
    "### 4A. Meeting Assumptions <a name=\"MA2\"></a>\n",
    "Since linear regression includes a number of assumptions that must be met, I'll be briefly detailing each of them here in a bullet point and then showing any necessary proofs below.\n",
    "\n",
    "1. Observations are independent\n",
    "    * Observations may be grouped by participant, but this has been accounted for as a random effect\n",
    "1. Response variable is interval-or ratio-scaled\n",
    "    * Yes, the response variable (TextLen) is ratio scaled; a response length of 0 is still meaningful as a non-reponse\n",
    "1. Relationship between variables is (roughly) linear\n",
    "    * Difficult to tell from the box plots alone since we're not working with categories that increase or decrease; both level of study and genre are discrete and can't really support \"linear\" modeling in the usual sense on their own\n",
    "1. Homoscedasticity of variance\n",
    "    * The variance seems heteroscedastic based on the linear model alone without random effects or interaction terms. See below \n",
    "    * Seems like the model has trouble with the higher end (right-side) of the fitted values\n",
    "1. Explanatory variables are not strongly correlated\n",
    "    * This at least should be fine; there is nothing intuitive to suggest that someone's level of academic study should impact which genre they are given for an experiment \n",
    "1. Residuals are not autocorrelated\n",
    "    * Likely not, since this is not time series data; no observation should have an impact on another one\n",
    "1. Residuals are normally distributed, with a mean of 0\n",
    "    * Not true, and log transforming the entire model doesn't seem to help very much (the other tail dips); then again, closer on the whole\n",
    "\n",
    "Still, all things being said and done, I do not think I would be the first person to violate these assumptions and still go ahead with their analysis, and I certainly will not be the last. We have discussed numerous times in class that researchers routinely use Mixed-Effects models for their robustness and seeming robustness in the face of violated assumptions. For the sake of learning, I plan to continue on with trying to fit a Mixed-Effects model to these data."
   ]
  },
  {
   "cell_type": "code",
   "execution_count": 23,
   "metadata": {},
   "outputs": [],
   "source": [
    "# Assuumption 3: Relationship between variables is roughly linear\n",
    "\n",
    "# Creating a normal linear model to test if variance for genre and level of study is roughly linear\n",
    "lm(TextLen ~ Genre + LvlStdy, data = ALCNO) -> lm\n",
    "\n",
    "# Log-transforming the text length and fitting another linear model; this is more for Assumption 7\n",
    "lm(log(TextLen) ~ Genre + LvlStdy, data = ALCNO) -> lmLOG"
   ]
  },
  {
   "cell_type": "code",
   "execution_count": 24,
   "metadata": {},
   "outputs": [
    {
     "data": {
      "text/html": [
       "<strong>png:</strong> 2"
      ],
      "text/latex": [
       "\\textbf{png:} 2"
      ],
      "text/markdown": [
       "**png:** 2"
      ],
      "text/plain": [
       "png \n",
       "  2 "
      ]
     },
     "metadata": {},
     "output_type": "display_data"
    },
    {
     "data": {
      "image/png": "[encoded data removed]",
      "text/plain": [
       "plot without title"
      ]
     },
     "metadata": {},
     "output_type": "display_data"
    }
   ],
   "source": [
    "# Plotting component residuals for both genre and level of study \n",
    "par(mfrow=c(1,2))\n",
    "crPlot(lm, var = \"Genre\")\n",
    "crPlot(lm, var = \"LvlStdy\")\n",
    "par(mfrow=c(1,1))\n",
    "\n",
    "# Saving the above output as a .png\n",
    "png(\"ALCLMResiduals.png\")\n",
    "par(mfrow=c(1,2))\n",
    "crPlot(lm, var = \"Genre\")\n",
    "crPlot(lm, var = \"LvlStdy\")\n",
    "par(mfrow=c(1,1))\n",
    "dev.off()"
   ]
  },
  {
   "cell_type": "code",
   "execution_count": 25,
   "metadata": {},
   "outputs": [
    {
     "data": {
      "image/png": "[encoded data removed]",
      "text/plain": [
       "Plot with title \"\""
      ]
     },
     "metadata": {},
     "output_type": "display_data"
    },
    {
     "data": {
      "image/png": "[encoded data removed]",
      "text/plain": [
       "Plot with title \"\""
      ]
     },
     "metadata": {},
     "output_type": "display_data"
    }
   ],
   "source": [
    "# Assumption 4: Homoscedasticity of Variance\n",
    "\n",
    "# Plotting residuals vs. fitted for both linear models\n",
    "options(repr.plot.width=5, repr.plot.height=5) # Resizing plot\n",
    "plot(lm, which=1)\n",
    "plot(lmLOG,which=1)"
   ]
  },
  {
   "cell_type": "code",
   "execution_count": 26,
   "metadata": {},
   "outputs": [
    {
     "data": {
      "image/png": "[encoded data removed]",
      "text/plain": [
       "Plot with title \"\""
      ]
     },
     "metadata": {},
     "output_type": "display_data"
    },
    {
     "data": {
      "image/png": "[encoded data removed]",
      "text/plain": [
       "Plot with title \"\""
      ]
     },
     "metadata": {},
     "output_type": "display_data"
    }
   ],
   "source": [
    "# Assumption 7: Residuals are normally distributed, with a mean of 0\n",
    "\n",
    "# Again plotting both linear models\n",
    "options(repr.plot.width=5, repr.plot.height=5) # Resizing plot\n",
    "\n",
    "\n",
    "plot(lm, which=2)\n",
    "plot(lmLOG, which=2)"
   ]
  },
  {
   "cell_type": "markdown",
   "metadata": {},
   "source": [
    "### 4B. Code Walkthrough <a name=\"CW2\"></a>"
   ]
  },
  {
   "cell_type": "code",
   "execution_count": 27,
   "metadata": {},
   "outputs": [],
   "source": [
    "# Predict the text length by only estimating the overall intercept, plus a set of randomly varying intercepts\n",
    "# that can vary by participant; set REML to \"False\" to allow for comparison of different models\n",
    "lmer(TextLen ~ 1 + (1|Participant), data = ALCNO, REML = F) -> regr0\n",
    "\n",
    "# Adding in fixed predictor \"Genre\"\n",
    "lmer(TextLen ~ Genre + (1|Participant), data = ALCNO, REML = F) -> regr1\n",
    "\n",
    "# Adding in fixed predictor \"LvlStudy\"\n",
    "lmer(TextLen ~ Genre + LvlStdy + (1|Participant), data = ALCNO, REML = F) -> regr2\n",
    "\n",
    "# Adding in an interaction effect for \"genre\" and \"level of study\"\n",
    "lmer(TextLen ~ Genre * LvlStdy + (1|Participant), data = ALCNO, REML = F) -> regr3"
   ]
  },
  {
   "cell_type": "code",
   "execution_count": 28,
   "metadata": {},
   "outputs": [
    {
     "data": {
      "text/html": [
       "<table>\n",
       "<thead><tr><th></th><th scope=col>npar</th><th scope=col>AIC</th><th scope=col>BIC</th><th scope=col>logLik</th><th scope=col>deviance</th><th scope=col>Chisq</th><th scope=col>Df</th><th scope=col>Pr(&gt;Chisq)</th></tr></thead>\n",
       "<tbody>\n",
       "\t<tr><th scope=row>regr0</th><td> 3          </td><td>19442.57    </td><td>19458.65    </td><td>-9718.283   </td><td>19436.57    </td><td>       NA   </td><td>NA          </td><td>          NA</td></tr>\n",
       "\t<tr><th scope=row>regr1</th><td> 4          </td><td>19277.04    </td><td>19298.50    </td><td>-9634.522   </td><td>19269.04    </td><td>167.52043   </td><td> 1          </td><td>2.574848e-38</td></tr>\n",
       "\t<tr><th scope=row>regr2</th><td> 8          </td><td>19185.73    </td><td>19228.63    </td><td>-9584.864   </td><td>19169.73    </td><td> 99.31637   </td><td> 4          </td><td>1.375227e-20</td></tr>\n",
       "\t<tr><th scope=row>regr3</th><td>12          </td><td>19139.70    </td><td>19204.05    </td><td>-9557.848   </td><td>19115.70    </td><td> 54.03248   </td><td> 4          </td><td>5.180908e-11</td></tr>\n",
       "</tbody>\n",
       "</table>\n"
      ],
      "text/latex": [
       "\\begin{tabular}{r|llllllll}\n",
       "  & npar & AIC & BIC & logLik & deviance & Chisq & Df & Pr(>Chisq)\\\\\n",
       "\\hline\n",
       "\tregr0 &  3           & 19442.57     & 19458.65     & -9718.283    & 19436.57     &        NA    & NA           &           NA\\\\\n",
       "\tregr1 &  4           & 19277.04     & 19298.50     & -9634.522    & 19269.04     & 167.52043    &  1           & 2.574848e-38\\\\\n",
       "\tregr2 &  8           & 19185.73     & 19228.63     & -9584.864    & 19169.73     &  99.31637    &  4           & 1.375227e-20\\\\\n",
       "\tregr3 & 12           & 19139.70     & 19204.05     & -9557.848    & 19115.70     &  54.03248    &  4           & 5.180908e-11\\\\\n",
       "\\end{tabular}\n"
      ],
      "text/markdown": [
       "\n",
       "| <!--/--> | npar | AIC | BIC | logLik | deviance | Chisq | Df | Pr(>Chisq) |\n",
       "|---|---|---|---|---|---|---|---|---|\n",
       "| regr0 |  3           | 19442.57     | 19458.65     | -9718.283    | 19436.57     |        NA    | NA           |           NA |\n",
       "| regr1 |  4           | 19277.04     | 19298.50     | -9634.522    | 19269.04     | 167.52043    |  1           | 2.574848e-38 |\n",
       "| regr2 |  8           | 19185.73     | 19228.63     | -9584.864    | 19169.73     |  99.31637    |  4           | 1.375227e-20 |\n",
       "| regr3 | 12           | 19139.70     | 19204.05     | -9557.848    | 19115.70     |  54.03248    |  4           | 5.180908e-11 |\n",
       "\n"
      ],
      "text/plain": [
       "      npar AIC      BIC      logLik    deviance Chisq     Df Pr(>Chisq)  \n",
       "regr0  3   19442.57 19458.65 -9718.283 19436.57        NA NA           NA\n",
       "regr1  4   19277.04 19298.50 -9634.522 19269.04 167.52043  1 2.574848e-38\n",
       "regr2  8   19185.73 19228.63 -9584.864 19169.73  99.31637  4 1.375227e-20\n",
       "regr3 12   19139.70 19204.05 -9557.848 19115.70  54.03248  4 5.180908e-11"
      ]
     },
     "metadata": {},
     "output_type": "display_data"
    }
   ],
   "source": [
    "anova(regr0, regr1, regr2, regr3)"
   ]
  },
  {
   "cell_type": "markdown",
   "metadata": {},
   "source": [
    "Log likelihood increases with each nesting of the models, indicating that the likelihood that our predictors hold explanatory power is increasing."
   ]
  },
  {
   "cell_type": "code",
   "execution_count": 29,
   "metadata": {},
   "outputs": [
    {
     "data": {
      "text/plain": [
       "Linear mixed model fit by maximum likelihood  ['lmerMod']\n",
       "Formula: TextLen ~ Genre * LvlStdy + (1 | Participant)\n",
       "   Data: ALCNO\n",
       "\n",
       "     AIC      BIC   logLik deviance df.resid \n",
       " 19139.7  19204.0  -9557.8  19115.7     1564 \n",
       "\n",
       "Scaled residuals: \n",
       "    Min      1Q  Median      3Q     Max \n",
       "-3.5241 -0.4499 -0.0880  0.3239  6.1419 \n",
       "\n",
       "Random effects:\n",
       " Groups      Name        Variance Std.Dev.\n",
       " Participant (Intercept) 6804     82.48   \n",
       " Residual                5735     75.73   \n",
       "Number of obs: 1576, groups:  Participant, 941\n",
       "\n",
       "Fixed effects:\n",
       "                                       Estimate Std. Error t value\n",
       "(Intercept)                             135.406     14.554   9.304\n",
       "GenreNarrative                          113.944     14.134   8.062\n",
       "LvlStdyDiploma course                    19.021     18.045   1.054\n",
       "LvlStdyLanguage course                    7.071     16.218   0.436\n",
       "LvlStdyMA                               246.960     32.963   7.492\n",
       "LvlStdySecondary school                 -19.413     15.992  -1.214\n",
       "GenreNarrative:LvlStdyDiploma course    -67.701     17.421  -3.886\n",
       "GenreNarrative:LvlStdyLanguage course   -91.419     15.919  -5.743\n",
       "GenreNarrative:LvlStdyMA                -67.503     33.159  -2.036\n",
       "GenreNarrative:LvlStdySecondary school  -30.779     15.558  -1.978\n",
       "\n",
       "Correlation of Fixed Effects:\n",
       "            (Intr) GnrNrr LvlSDc LvlSLc LvlSMA LvlSSs GN:LSDc GN:LSLc GN:LSM\n",
       "GenreNarrtv -0.727                                                          \n",
       "LvlStdyDplc -0.807  0.587                                                   \n",
       "LvlStdyLngc -0.897  0.653  0.724                                            \n",
       "LvlStdyMA   -0.442  0.321  0.356  0.396                                     \n",
       "LvlStdyScns -0.910  0.662  0.734  0.817  0.402                              \n",
       "GnrNrr:LSDc  0.590 -0.811 -0.665 -0.530 -0.261 -0.537                       \n",
       "GnrNrr:LSLc  0.646 -0.888 -0.521 -0.698 -0.285 -0.588  0.720                \n",
       "GnrNrr:LSMA  0.310 -0.426 -0.250 -0.278 -0.491 -0.282  0.346   0.378        \n",
       "GnrNrr:LSSs  0.661 -0.908 -0.533 -0.593 -0.292 -0.706  0.737   0.807   0.387"
      ]
     },
     "metadata": {},
     "output_type": "display_data"
    }
   ],
   "source": [
    "summary(regr3)"
   ]
  },
  {
   "cell_type": "markdown",
   "metadata": {},
   "source": [
    "### 4C. Visualizations <a name=\"VIS2\"></a>\n",
    "\n",
    "There's not as much to visualize here in terms of the actual model as there was above with the Chi-Squared test, but I still wanted to visualize text length as a function of genre for this section, with level of study being used to break them out further."
   ]
  },
  {
   "cell_type": "code",
   "execution_count": 30,
   "metadata": {},
   "outputs": [
    {
     "data": {
      "image/png": "[encoded data removed]",
      "text/plain": [
       "plot without title"
      ]
     },
     "metadata": {},
     "output_type": "display_data"
    }
   ],
   "source": [
    "# Plotting text length as a function of genre, colored by level of study\n",
    "\n",
    "ggplot(ALCNO, aes(Genre, TextLen, fill=LvlStdy)) +\n",
    "geom_boxplot() +\n",
    "xlab(\"Response Genre\")+\n",
    "ylab(\"Text Length (Word Tokens)\")"
   ]
  },
  {
   "cell_type": "markdown",
   "metadata": {},
   "source": [
    "It does look like genre has some role to play for participants in BA programs and Secondary school; in general, we see the same pattern of longer responses on average for narrative data that the Chi-Squared test only hinted at. The distribution for MA-level participants is intriguing in its wide variance for the discussion genre; people at the graduate education level may be better-equipped and more willing to talk about their studies, perhaps. I would love to visualize this model by participants, but since there are 900+ people represented here, it didn't seem like a great idea."
   ]
  },
  {
   "cell_type": "markdown",
   "metadata": {},
   "source": [
    "### 4D. Interpretation <a name=\"INT2\"></a>"
   ]
  },
  {
   "cell_type": "markdown",
   "metadata": {},
   "source": [
    "Aside from dubious validity on the grounds of violated assumptions, this went well! Every step of adding a new parameter or modifying an existing one resulted in an increase of log likelihood, meaning that each predictor seems to be giving us some additional explanatory power when building our model. However, the scaled residuals of the final model (regr3) are skewed, ranging from -3.52 to 6.14, with a median of -0.0880. In the grand scheme of things, this actually doesn’t seem terrible; although the far ends are skewed, the median is still fairly close to 0. Returning to my hypothesis, it does seem that genre is more clearly having an effect once the full dataset can be utilized and random effects can be considered by the algorithm.\n",
    "\n",
    "Regarding the fixed effects selected for our model, I take the increase in log likelihood when switching from “Genre + LvlStdy” to “Genre * LvlStdy” as confirmation that there is indeed some interaction between them to account for in our model. Since as a rule of thumb we can take as significant any predictor with an absolute *t*-value greater than two, it looks like the “narrative” genre on its own does indeed have a significant effect on text length; its *t*-value being 8.062. Also unsurprising here is the significance of all of the levels of study interacting with “Narrative” genre, except for secondary school. It makes some intuitive sense to me that a person’s level of education would impact the length of their writing.\n",
    "\n",
    "On a final note, I tried to include random by-Participant slopes for the effect of TestNumber to account for the fact that different people will perform different for different tests, but this produced an error (not a non-convergence error, just the regular kind). For me, I think Mixed-Effects models are going to take a lot of getting used to; although very robust and very powerful, I will admit to being intimidated by the sheer number of factors to consider when building one. But I suppose that’s part and parcel for working with data! \n",
    "\n",
    "\n",
    "[Back to top](#TOP)"
   ]
  },
  {
   "cell_type": "markdown",
   "metadata": {},
   "source": [
    "## Works Referenced <a name=\"WR\"></a>\n",
    "> Alfaifi, A., Atwell, E. and Hedaya, I. (2014). Arabic Learner Corpus (ALC) v2: A New Written and Spoken Corpus of Arabic Learners. In the proceedings of the Learner Corpus Studies in Asia and the World (LCSAW) 2014, 31 May - 01 Jun 2014. Kobe, Japan. <http://www.arabiclearnercorpus.com>.\n",
    "\n",
    "[Back to top](#TOP)"
   ]
  }
 ],
 "metadata": {
  "kernelspec": {
   "display_name": "R",
   "language": "R",
   "name": "ir"
  },
  "language_info": {
   "codemirror_mode": "r",
   "file_extension": ".r",
   "mimetype": "text/x-r-source",
   "name": "R",
   "pygments_lexer": "r",
   "version": "3.6.1"
  }
 },
 "nbformat": 4,
 "nbformat_minor": 4
}
