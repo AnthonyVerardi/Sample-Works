{
 "cells": [
  {
   "cell_type": "markdown",
   "metadata": {},
   "source": [
    "# The ~Hitchhiker's~ Beginner's Guide to ~the Galaxy~ Using R in Jupyter Notebook <a name=\"top\"></a>\n",
    "Anthony Verardi | 4.9.2020| a.verardi@pitt.edu | [GitHub](https://github.com/AnthonyVerardi)\n",
    "\n",
    "This Notebook was prepared as a course project for **LING 2010: Statistics for Research in Linguistics** with [Dr. Melinda Fricke](http://www.pitt.edu/~mdf46/Home.html) at the University of Pittsburgh during the Spring 2020 semester.\n",
    "\n",
    "In this brief introduction to Jupyter Notebook, we'll walk through what it is, how to use it, and why to use it with R. While this guide assumes *no familiarity* with Anaconda or Jupyter Notebook, it is intended for individuals who have experience with the R programming language.\n",
    "\n",
    "**Contents**\n",
    "* [Section 1: Installation](#installation)\n",
    "  * [1.1 Installing Jupyter Notebook through Anaconda](#installanaconda)\n",
    "  * [1.2 Creating an R Environment for Jupyter Notebook](#renv)\n",
    "* [Section 2: Cell Types](#celltypes)\n",
    "    * [2.1 Code Cells](#codecells)\n",
    "    * [2.2 Markdown Cells](#markcells)\n",
    "* [Section 3: Demonstration](#demo)\n",
    "    * [3.1 Homework 5: *Jupyter Style*](#hw5)\n",
    "* [Section 4: Conclusion](#conclusion)\n",
    "    * [4.1 Why use R in Jupyter Notebook?](#pros)\n",
    "    * [4.2 Why use R in Rstudio or as a Standalone Spplication?](#cons)\n",
    "    * [4.3 Exporting the Final Product](#export)"
   ]
  },
  {
   "cell_type": "markdown",
   "metadata": {},
   "source": [
    "## Section 1: Installation <a name=\"installation\"></a>\n",
    "\n",
    "So, setup! Can't play with a fancy new toy if we don't have it, so we'll need to install Anaconda. This will also include Python and a whole slew of other neat gadgets. This is a shameless plug for both **LING 1330/2330 Computational Linguistics** and **LING 1340/2340 Data Science for Linguists** (which are both awesome and you should all consider taking them).\n",
    "\n",
    "### 1.1 Installing Jupyter Notebook through Anaconda <a name=\"installanaconda\"></a>\n",
    "The absolute first thing you will need to do in order to start using Jupyter Notebook is [install Anaconda](https://www.anaconda.com/), the self-proclaimed \"World's Most Popular Data Science Platform.\" Anaconda is freely available for download and open usage; simply follow the instructions from the homepage under \"Individual Edition\". You should go ahead and install the Python 3.7 version, which at the time of my writing this is the most recent version of Python. **If you end up taking a course at Pitt which requires a different installation configuration, ask your instructor about uninstalling Anaconda and getting the right version!**\n",
    "\n",
    "### 1.2 Creating an R Environment for Jupyter Notebook <a name=\"renv\"></a>\n",
    "This sounds scarier and more difficult than it really is! It's mostly just clicking some buttons and waiting for your computer to do its thing.\n",
    "\n",
    "Once you've got Anaconda successfully installed, go ahead and boot up \"Anaconda Navigator\". You can follow [this guide](https://docs.anaconda.com/anaconda/navigator/tutorials/r-lang/\n",
    ") for the most straightforward way that I was able to find for getting R ready to use with Jupyter Notebook (I used this guide myself). Once you create your R environment (it'll take a while to set up all the base packages!), **close the navigator and restart it,** then try to open a Jupyter Notebook from that environment using the \"play\" button and selecting the last option in the list. From here, you can select \"New\" -> \"Jupyter Notebook\" to make a blank notebook in whatever directory you want to work in. Much like using R and setting a working directory, the Jupyter Notebook will use whatever directory you save it in as its current working directory.\n",
    "\n",
    "**As a point of full disclosure,** I'm not going to go into detail about how to download new packages for R (like if we needed to download Rling for the first time, or any of the other packages we've used in class) while you're working in Jupyter Notebook. When I set up R, all of the packages that I already had for R seemed to be working just fine, so it might just be the case that you need to install packages in R and then fire up Jupyter Notebook after the fact. This will take some more research (and honestly just trial and error) than I'm capable of right now. With that said, on to actually working in Jupyter Notebook!\n",
    "\n",
    "[Back to Top](#top)"
   ]
  },
  {
   "cell_type": "markdown",
   "metadata": {},
   "source": [
    "## Section 2: Cell Types <a name=\"celltypes\"></a>\n",
    "\n",
    "So you've got this fancy Notebook thing ready to go, but what exactly *is* it? Let's look at the two main types of cells that you'll be working in: code cells and markdown cells. For either cell type, you can write your code and then use the \"Run\" button in the user interface to execute it, or press `Shift+Enter` by default.\n",
    "\n",
    "### 2.1 Code Cells <a name=\"codecells\"></a>\n",
    "Code cells are the *bread* of Jupyter Notebook: the substance. Think of them like you would think of a regular script in R: a space for you to write code and comments. By default, a new cell is generated as a code cell when you click the `+` button in the user interface. To change a cell from `Code` to `Markdown`, just use the dropdown menu at the top of the Notebook. Besides actually running code in a code cell, you can include the usual comments that you would in an R script by using `#`, like so:"
   ]
  },
  {
   "cell_type": "code",
   "execution_count": 1,
   "metadata": {},
   "outputs": [
    {
     "name": "stderr",
     "output_type": "stream",
     "text": [
      "Warning message:\n",
      "\"package 'Rling' was built under R version 3.6.2\""
     ]
    }
   ],
   "source": [
    "# Loads the Rling library\n",
    "library(Rling)"
   ]
  },
  {
   "cell_type": "markdown",
   "metadata": {},
   "source": [
    "And now we've loaded Rling! Boom. Science. It's not possible to display this, but you can also use the `Tab` key to autocomplete your variable/function names, just like in R Studio or plain R.\n",
    "\n",
    "Each code cell can contain as few as one line of code or as many as you like; running the cell will run every line of code in order. We can use this to chunk up our code in ways that make some intuitive sense, like isolating code used for loading packages and datasets, creating variables, and running actual calculations. So for instance, we could do the following either as three separate lines of code:"
   ]
  },
  {
   "cell_type": "code",
   "execution_count": 2,
   "metadata": {},
   "outputs": [],
   "source": [
    "data(ldt)"
   ]
  },
  {
   "cell_type": "code",
   "execution_count": 3,
   "metadata": {},
   "outputs": [
    {
     "data": {
      "text/html": [
       "<table>\n",
       "<thead><tr><th></th><th scope=col>Length</th><th scope=col>Freq</th><th scope=col>Mean_RT</th></tr></thead>\n",
       "<tbody>\n",
       "\t<tr><th scope=row>marveled</th><td> 8     </td><td>131    </td><td> 819.19</td></tr>\n",
       "\t<tr><th scope=row>persuaders</th><td>10     </td><td> 82    </td><td> 977.63</td></tr>\n",
       "\t<tr><th scope=row>midmost</th><td> 7     </td><td>  0    </td><td> 908.22</td></tr>\n",
       "\t<tr><th scope=row>crutch</th><td> 6     </td><td>592    </td><td> 766.30</td></tr>\n",
       "\t<tr><th scope=row>resuspension</th><td>12     </td><td>  2    </td><td>1125.42</td></tr>\n",
       "\t<tr><th scope=row>efflorescent</th><td>12     </td><td>  9    </td><td> 948.33</td></tr>\n",
       "</tbody>\n",
       "</table>\n"
      ],
      "text/latex": [
       "\\begin{tabular}{r|lll}\n",
       "  & Length & Freq & Mean\\_RT\\\\\n",
       "\\hline\n",
       "\tmarveled &  8      & 131     &  819.19\\\\\n",
       "\tpersuaders & 10      &  82     &  977.63\\\\\n",
       "\tmidmost &  7      &   0     &  908.22\\\\\n",
       "\tcrutch &  6      & 592     &  766.30\\\\\n",
       "\tresuspension & 12      &   2     & 1125.42\\\\\n",
       "\tefflorescent & 12      &   9     &  948.33\\\\\n",
       "\\end{tabular}\n"
      ],
      "text/markdown": [
       "\n",
       "| <!--/--> | Length | Freq | Mean_RT |\n",
       "|---|---|---|---|\n",
       "| marveled |  8      | 131     |  819.19 |\n",
       "| persuaders | 10      |  82     |  977.63 |\n",
       "| midmost |  7      |   0     |  908.22 |\n",
       "| crutch |  6      | 592     |  766.30 |\n",
       "| resuspension | 12      |   2     | 1125.42 |\n",
       "| efflorescent | 12      |   9     |  948.33 |\n",
       "\n"
      ],
      "text/plain": [
       "             Length Freq Mean_RT\n",
       "marveled      8     131   819.19\n",
       "persuaders   10      82   977.63\n",
       "midmost       7       0   908.22\n",
       "crutch        6     592   766.30\n",
       "resuspension 12       2  1125.42\n",
       "efflorescent 12       9   948.33"
      ]
     },
     "metadata": {},
     "output_type": "display_data"
    }
   ],
   "source": [
    "head(ldt)"
   ]
  },
  {
   "cell_type": "code",
   "execution_count": 4,
   "metadata": {},
   "outputs": [
    {
     "data": {
      "text/plain": [
       "\n",
       " 3  4  5  6  7  8  9 10 11 12 13 14 15 \n",
       " 2  5  7 13 12 16 11 16 11  3  1  2  1 "
      ]
     },
     "metadata": {},
     "output_type": "display_data"
    }
   ],
   "source": [
    "table(ldt$Length)"
   ]
  },
  {
   "cell_type": "markdown",
   "metadata": {},
   "source": [
    "Or as one unified block:"
   ]
  },
  {
   "cell_type": "code",
   "execution_count": 5,
   "metadata": {},
   "outputs": [
    {
     "data": {
      "text/html": [
       "<table>\n",
       "<thead><tr><th></th><th scope=col>Length</th><th scope=col>Freq</th><th scope=col>Mean_RT</th></tr></thead>\n",
       "<tbody>\n",
       "\t<tr><th scope=row>marveled</th><td> 8     </td><td>131    </td><td> 819.19</td></tr>\n",
       "\t<tr><th scope=row>persuaders</th><td>10     </td><td> 82    </td><td> 977.63</td></tr>\n",
       "\t<tr><th scope=row>midmost</th><td> 7     </td><td>  0    </td><td> 908.22</td></tr>\n",
       "\t<tr><th scope=row>crutch</th><td> 6     </td><td>592    </td><td> 766.30</td></tr>\n",
       "\t<tr><th scope=row>resuspension</th><td>12     </td><td>  2    </td><td>1125.42</td></tr>\n",
       "\t<tr><th scope=row>efflorescent</th><td>12     </td><td>  9    </td><td> 948.33</td></tr>\n",
       "</tbody>\n",
       "</table>\n"
      ],
      "text/latex": [
       "\\begin{tabular}{r|lll}\n",
       "  & Length & Freq & Mean\\_RT\\\\\n",
       "\\hline\n",
       "\tmarveled &  8      & 131     &  819.19\\\\\n",
       "\tpersuaders & 10      &  82     &  977.63\\\\\n",
       "\tmidmost &  7      &   0     &  908.22\\\\\n",
       "\tcrutch &  6      & 592     &  766.30\\\\\n",
       "\tresuspension & 12      &   2     & 1125.42\\\\\n",
       "\tefflorescent & 12      &   9     &  948.33\\\\\n",
       "\\end{tabular}\n"
      ],
      "text/markdown": [
       "\n",
       "| <!--/--> | Length | Freq | Mean_RT |\n",
       "|---|---|---|---|\n",
       "| marveled |  8      | 131     |  819.19 |\n",
       "| persuaders | 10      |  82     |  977.63 |\n",
       "| midmost |  7      |   0     |  908.22 |\n",
       "| crutch |  6      | 592     |  766.30 |\n",
       "| resuspension | 12      |   2     | 1125.42 |\n",
       "| efflorescent | 12      |   9     |  948.33 |\n",
       "\n"
      ],
      "text/plain": [
       "             Length Freq Mean_RT\n",
       "marveled      8     131   819.19\n",
       "persuaders   10      82   977.63\n",
       "midmost       7       0   908.22\n",
       "crutch        6     592   766.30\n",
       "resuspension 12       2  1125.42\n",
       "efflorescent 12       9   948.33"
      ]
     },
     "metadata": {},
     "output_type": "display_data"
    },
    {
     "data": {
      "text/plain": [
       "\n",
       " 3  4  5  6  7  8  9 10 11 12 13 14 15 \n",
       " 2  5  7 13 12 16 11 16 11  3  1  2  1 "
      ]
     },
     "metadata": {},
     "output_type": "display_data"
    }
   ],
   "source": [
    "data(ldt)\n",
    "head(ldt)\n",
    "table(ldt$Length)"
   ]
  },
  {
   "cell_type": "markdown",
   "metadata": {},
   "source": [
    "There's no right answer for how to organize your code in cells; some people like to do all of their code in one block, while others (self-included) prefer to chunk up code into variable assignment/\"setup\" cells and running single commands on separate lines, i.e. the method followed in the first small demonstration.\n",
    "\n",
    "Notice that in the previous example, the output is provided for both commands that we ran. We can also see here that even though the code lives in separate cells, anything we do in a code cell applies to the entire Notebook; variables created in the first cell (`In [4]`) above can be used in the next cells. Technically, in `In [7]`, we didn't actually have to write the `data(ldt)` command again, since it was already loaded previously.\n",
    "\n",
    "I'll provide a more thorough demonstration in Section 3 below, but I hope this helps illustrate the idea of how code cells can be separated and still work together, and be used in tandem with markdown cells to provide readability and structure to your code."
   ]
  },
  {
   "cell_type": "markdown",
   "metadata": {},
   "source": [
    "### 2.2 Markdown Cells <a name=\"markcells\"></a>\n",
    "If code cells are Jupyter Notebooks's bread, then markdown cells are the *butter*: the flavor. Markdown cells are used to provide your notebook with structure, from simple bulleted lists to section headers that can be used to build a table of contents. This is a [very helpful resource for Markdown language](https://github.com/adam-p/markdown-here/wiki/Markdown-Cheatsheet) (which is another type of coding language) and one that I consult frequently. In general, all you have to do to use Markdown code is wrap your text in it, whether that's adding single asterisks for *italics*, double asterisks for **bold**, or [wrapping words in square brackets followed by a link in parentheses](https://www.youtube.com/watch?v=oHg5SJYRHA0) to make a hyperlink.\n",
    "\n",
    "Asterisks and numerals can also be used to make indented, bulleted/numbered lists, like so:\n",
    "\n",
    "* Here's a list item\n",
    "* And another one\n",
    "    * And a cheeky little sub-list item\n",
    "    * As a treat\n",
    "* Okay back to the main list\n",
    "\n",
    "And once again, with alphanumeric characters this time:\n",
    "\n",
    "1. Here's a different list\n",
    "1. This one has numbers\n",
    "1. Numbers, statistics, it just makes sense\n",
    "    1. Letters are also nice\n",
    "        1. And whatever else it gives us\n",
    "\n",
    "You can also use the grave accent/back-tick key (usually located on the same button as tilde) twice in a row to mark whatever comes between them as code. It looks `like this` when you do it, and is very useful for writing out the names of functions or bits of code, like `data()` and `library()`. You can even wrap an entire block of code in this, like so:\n",
    "\n",
    "`ggplot(engNV, aes(log(Phono.Length), ..density..)) + \n",
    "  geom_histogram() +\n",
    "  geom_density() +\n",
    "  xlab(\"log(Phonological Length)\")`\n",
    "  \n",
    "Let's actually look at the raw structure of this entire cell in Markdown, which we can do by using three back-ticks in a row around the entire chunk, so that you can get a feel for what I'm talking about behind-the-scenes. See if you can identify all of the markdown used in this section and if anything jumps out at you about its formatting. Specificying \"markdown\" after the initial three back-ticks will highlight the syntax used to change the text of this document.\n",
    "\n",
    "```markdown\n",
    "### 2.2 Markdown Cells <a name=\"markcells\"></a>\n",
    "If code cells are Jupyter Notebooks's bread, then markdown cells are the *butter*: the flavor. Markdown cells are used to provide your notebook with structure, from simple bulleted lists to section headers that can be used to build a table of contents. This is a [very helpful resource for Markdown language](https://github.com/adam-p/markdown-here/wiki/Markdown-Cheatsheet) (which is another type of coding language) and one that I consult frequently. In general, all you have to do to use Markdown code is wrap your text in it, whether that's adding single asterisks for *italics*, double asterisks for **bold**, or [wrapping words in square brackets followed by a link in parentheses](https://www.youtube.com/watch?v=oHg5SJYRHA0) to make a hyperlink.\n",
    "\n",
    "Asterisks and numerals can also be used to make indented, bulleted/numbered lists, like so:\n",
    "\n",
    "* Here's a list item\n",
    "* And another one\n",
    "    * And a cheeky little sub-list item\n",
    "    * As a treat\n",
    "* Okay back to the main list\n",
    "\n",
    "And once again, with alphanumeric characters this time:\n",
    "\n",
    "1. Here's a different list\n",
    "1. This one has numbers\n",
    "1. Numbers, statistics, it just makes sense\n",
    "    1. Letters are also nice\n",
    "        1. And whatever else it gives us\n",
    "\n",
    "You can also use the grave accent/back-tick key (usually located on the same button as tilde) twice in a row to mark whatever comes between them as code. It looks `like this` when you do it, and is very useful for writing out the names of functions or bits of code, like `data()` and `library()`. You can even wrap an entire block of code in this, like so:\n",
    "\n",
    "`ggplot(engNV, aes(log(Phono.Length), ..density..)) + \n",
    "  geom_histogram() +\n",
    "  geom_density() +\n",
    "  xlab(\"log(Phonological Length)\")`\n",
    "```\n",
    "\n",
    "I know this is a lot of information to take in at once, but let's try and apply some of what we've just covered in the context of something we've done in class.\n",
    "\n",
    "[Back to Top](#top)"
   ]
  },
  {
   "cell_type": "markdown",
   "metadata": {},
   "source": [
    "## Section 3: Demonstration <a name=\"demo\"></a>\n",
    "In the following section, I'm going to demonstrate what the first part and one correlation portion of the Exercise 5 homework would look like if prepared in Jupyter Notebook, providing my actual code and answers along with markdown cells that show my comments and analysis at each relevant step along the way. I'll also use **`bold back-tick`** Markdown to indicate what parts of the code are instructions from the assignment."
   ]
  },
  {
   "cell_type": "markdown",
   "metadata": {},
   "source": [
    "### Section 3.1 Homework 5: *Jupyter Style* <a name=\"hw5\"></a>\n",
    "* Name: Anthony Verardi\n",
    "* Collaborators: N/A\n",
    "\n",
    "* Exercise #5\n",
    "* LING 2010, Spring 2020\n",
    "\n",
    "**`Due Wednesday, Feb. 26, by 11:59 PM via CourseWeb`**\n",
    "\n",
    "**`Download the file called \"EngSpaLexDec.csv\" from CourseWeb, then read it in to R using this line of code:`**"
   ]
  },
  {
   "cell_type": "code",
   "execution_count": 6,
   "metadata": {},
   "outputs": [],
   "source": [
    "read.csv(\"EngSpaLexDec.csv\") -> eng # Renamed it based on class, I like the shorter one :)"
   ]
  },
  {
   "cell_type": "markdown",
   "metadata": {},
   "source": [
    "* **`How many words are included in this dataset?`**\n",
    "* **`How many of them are in English versus Spanish?`**\n",
    "* **`How many of them are cognates versus noncognates?`**\n"
   ]
  },
  {
   "cell_type": "code",
   "execution_count": 7,
   "metadata": {},
   "outputs": [
    {
     "data": {
      "text/html": [
       "120"
      ],
      "text/latex": [
       "120"
      ],
      "text/markdown": [
       "120"
      ],
      "text/plain": [
       "[1] 120"
      ]
     },
     "metadata": {},
     "output_type": "display_data"
    }
   ],
   "source": [
    "length(eng$Word)"
   ]
  },
  {
   "cell_type": "markdown",
   "metadata": {},
   "source": [
    "We're looking at 120 words in this dataset."
   ]
  },
  {
   "cell_type": "code",
   "execution_count": 8,
   "metadata": {},
   "outputs": [
    {
     "data": {
      "text/plain": [
       "\n",
       "English \n",
       "    120 "
      ]
     },
     "metadata": {},
     "output_type": "display_data"
    }
   ],
   "source": [
    "table(eng$Language)"
   ]
  },
  {
   "cell_type": "markdown",
   "metadata": {},
   "source": [
    "All of which come from English, so none in Spanish."
   ]
  },
  {
   "cell_type": "code",
   "execution_count": 9,
   "metadata": {},
   "outputs": [
    {
     "data": {
      "text/plain": [
       "\n",
       "   cognate noncognate \n",
       "        60         60 "
      ]
     },
     "metadata": {},
     "output_type": "display_data"
    }
   ],
   "source": [
    "table(eng$CogStatus)"
   ]
  },
  {
   "cell_type": "markdown",
   "metadata": {},
   "source": [
    "And we have an even split, 60/60, of cognates and non-cognates\n"
   ]
  },
  {
   "cell_type": "markdown",
   "metadata": {},
   "source": [
    "**`You will be exploring the correlations among the following variables:`**\n",
    "* **`LogFreq (log-transformed frequency per million words, estimated from movie subtitles)`**\n",
    "* **`Phono.Length (length of the word, in phonemes)`**\n",
    "* **`Dur (duration of the word in seconds, as recorded by one speaker of English)`**\n",
    "* **`RT (amount of time it took for me to decide that this was a real word, in ms)`**\n",
    "\n",
    "**`Create a vector that lists these 4 variables, then use this vector to generate a pairwise correlation matrix for all 4 of them.(See the Week 7 slides for an example.) Which correlation test do you think you should specify, and why?`**"
   ]
  },
  {
   "cell_type": "code",
   "execution_count": 10,
   "metadata": {},
   "outputs": [],
   "source": [
    "# Splitting out numerical data columns from non-numeric\n",
    "NumVars <- c(\"LogFreq\", \"Phono.Length\",\"Dur\", \"RT\")\n",
    "\n",
    "# Saving the smaller set of variables into a separate frame for ease of access\n",
    "eng[NumVars] -> engNV"
   ]
  },
  {
   "cell_type": "markdown",
   "metadata": {},
   "source": [
    "I've elected to run a `Spearman test` on these data because we haven't done any tests or other explorations to show if the data are suitable to run a `Pearson test` on or not. It's a safer bet without having done other types of test beforehand (like examining residuals and whether x/y are both normally distributed) since it's **non-parametric** and fewer assumptions have to be met in order to use it, although it is accordingly weaker for the same reason."
   ]
  },
  {
   "cell_type": "code",
   "execution_count": 11,
   "metadata": {},
   "outputs": [
    {
     "data": {
      "text/html": [
       "<table>\n",
       "<thead><tr><th></th><th scope=col>LogFreq</th><th scope=col>Phono.Length</th><th scope=col>Dur</th><th scope=col>RT</th></tr></thead>\n",
       "<tbody>\n",
       "\t<tr><th scope=row>LogFreq</th><td> 1.00000000</td><td>0.19122815 </td><td>-0.06154656</td><td>-0.01555365</td></tr>\n",
       "\t<tr><th scope=row>Phono.Length</th><td> 0.19122815</td><td>1.00000000 </td><td> 0.58414907</td><td> 0.03927902</td></tr>\n",
       "\t<tr><th scope=row>Dur</th><td>-0.06154656</td><td>0.58414907 </td><td> 1.00000000</td><td> 0.48185177</td></tr>\n",
       "\t<tr><th scope=row>RT</th><td>-0.01555365</td><td>0.03927902 </td><td> 0.48185177</td><td> 1.00000000</td></tr>\n",
       "</tbody>\n",
       "</table>\n"
      ],
      "text/latex": [
       "\\begin{tabular}{r|llll}\n",
       "  & LogFreq & Phono.Length & Dur & RT\\\\\n",
       "\\hline\n",
       "\tLogFreq &  1.00000000 & 0.19122815  & -0.06154656 & -0.01555365\\\\\n",
       "\tPhono.Length &  0.19122815 & 1.00000000  &  0.58414907 &  0.03927902\\\\\n",
       "\tDur & -0.06154656 & 0.58414907  &  1.00000000 &  0.48185177\\\\\n",
       "\tRT & -0.01555365 & 0.03927902  &  0.48185177 &  1.00000000\\\\\n",
       "\\end{tabular}\n"
      ],
      "text/markdown": [
       "\n",
       "| <!--/--> | LogFreq | Phono.Length | Dur | RT |\n",
       "|---|---|---|---|---|\n",
       "| LogFreq |  1.00000000 | 0.19122815  | -0.06154656 | -0.01555365 |\n",
       "| Phono.Length |  0.19122815 | 1.00000000  |  0.58414907 |  0.03927902 |\n",
       "| Dur | -0.06154656 | 0.58414907  |  1.00000000 |  0.48185177 |\n",
       "| RT | -0.01555365 | 0.03927902  |  0.48185177 |  1.00000000 |\n",
       "\n"
      ],
      "text/plain": [
       "             LogFreq     Phono.Length Dur         RT         \n",
       "LogFreq       1.00000000 0.19122815   -0.06154656 -0.01555365\n",
       "Phono.Length  0.19122815 1.00000000    0.58414907  0.03927902\n",
       "Dur          -0.06154656 0.58414907    1.00000000  0.48185177\n",
       "RT           -0.01555365 0.03927902    0.48185177  1.00000000"
      ]
     },
     "metadata": {},
     "output_type": "display_data"
    }
   ],
   "source": [
    "cor(engNV, method=\"spearman\") # Note the much prettier output here than in base R!"
   ]
  },
  {
   "cell_type": "markdown",
   "metadata": {},
   "source": [
    "**`Now use the same vector to generate a correlogram. (You will need to load the corrgram package first.)`**\n",
    "\n",
    "I'm actually going to use a new library that is unique to Jupyter Notebook's implementation of R called `repr` to resize the `corrgram` output plot in the following cell. You can [read about `repr` here](https://blog.revolutionanalytics.com/2015/09/resizing-plots-in-the-r-kernel-for-jupyter-notebooks.html). It's not perfect (note how it covers up a variable name), but it's better than the default. The important thing is that it fits in one spot without any need for scrolling."
   ]
  },
  {
   "cell_type": "code",
   "execution_count": 12,
   "metadata": {},
   "outputs": [
    {
     "name": "stderr",
     "output_type": "stream",
     "text": [
      "Warning message:\n",
      "\"package 'corrgram' was built under R version 3.6.2\"Registered S3 method overwritten by 'seriation':\n",
      "  method         from \n",
      "  reorder.hclust gclus\n"
     ]
    },
    {
     "data": {
      "image/png": "[encoded data removed]",
      "text/plain": [
       "plot without title"
      ]
     },
     "metadata": {},
     "output_type": "display_data"
    }
   ],
   "source": [
    "library(corrgram)\n",
    "library(repr)\n",
    "options(repr.plot.width=5.5, repr.plot.height=5.5)\n",
    "\n",
    "corrgram(engNV, lower.panel = panel.pie, cor.method = \"spearman\")"
   ]
  },
  {
   "cell_type": "markdown",
   "metadata": {},
   "source": [
    "I think these are actually growing on me, it's a nice way to get an idea of what's potentially interesting or important at a glance.\n",
    "\n",
    "**`You will now choose two of these correlations to investigate in more depth.`**"
   ]
  },
  {
   "cell_type": "code",
   "execution_count": 13,
   "metadata": {},
   "outputs": [
    {
     "name": "stderr",
     "output_type": "stream",
     "text": [
      "Warning message:\n",
      "\"package 'ggplot2' was built under R version 3.6.2\""
     ]
    }
   ],
   "source": [
    "# Loading ggplot for the next section\n",
    "library(ggplot2)"
   ]
  },
  {
   "cell_type": "markdown",
   "metadata": {},
   "source": [
    "### Correlation #1\n",
    "**`Which pair of variables are you investigating?`**\n",
    "\n",
    "Phonological length and duration of the recorded word in seconds!\n",
    "\n",
    "**`Do these variables meet the following assumptions for running a parametric correlation test (Pearson's r)? Generate plots wherever necessary or helpful, and turn in any plots you create with your homework assignment. Are these variables interval- or ratio-scaled? Be sure to explain your reasoning.`**\n",
    "\n",
    "**MEETS ASSUMPTION:** YES\n"
   ]
  },
  {
   "cell_type": "markdown",
   "metadata": {},
   "source": [
    "**Phonological length:** I think this one also gets into murky territory going back to the discussion we had in class about whether word length is interval or ratio. I still have this feeling that it would fall into the  category of `interval` since an utterance of phonological length 0 is the absence of an utterance to me, i.e. silence. But I guess in some ways, silence is a meaningful speech act, so it could possibly be ratio...? In  any case, it's definitely one of the two and not ordinal! It's not like a Likert scale where the distance between points is murky.\n",
    "\n",
    "**Duration of the recorded word in seconds:** this one I would say is also maybe in the same gray area as the above insofar as a duration of 0 seconds would not be a recording, and I feel a little more strongly in saying that this is `interval`. Even recorded silence has a measurable length insofar as it's the absence of acoustic energy. At any rate, it's also not ordinal.\n",
    "\n",
    "**`Are they normally distributed?`**\n",
    "**Meets assumptions:** NO"
   ]
  },
  {
   "cell_type": "code",
   "execution_count": 14,
   "metadata": {},
   "outputs": [
    {
     "data": {
      "image/png": "[encoded data removed]",
      "text/plain": [
       "Plot with title \"Normal Q-Q Plot\""
      ]
     },
     "metadata": {},
     "output_type": "display_data"
    }
   ],
   "source": [
    "options(repr.plot.width=4, repr.plot.height=4)\n",
    "qqnorm(engNV$Phono.Length)\n",
    "qqline(engNV$Phono.Length)"
   ]
  },
  {
   "cell_type": "code",
   "execution_count": 15,
   "metadata": {},
   "outputs": [
    {
     "name": "stderr",
     "output_type": "stream",
     "text": [
      "`stat_bin()` using `bins = 30`. Pick better value with `binwidth`.\n"
     ]
    },
    {
     "data": {
      "image/png": "[encoded data removed]",
      "text/plain": [
       "plot without title"
      ]
     },
     "metadata": {},
     "output_type": "display_data"
    }
   ],
   "source": [
    "ggplot(engNV, aes(log(Phono.Length), ..density..)) + \n",
    "  geom_histogram() +\n",
    "  geom_density() +\n",
    "  xlab(\"log(Phonological Length)\")"
   ]
  },
  {
   "cell_type": "markdown",
   "metadata": {},
   "source": [
    "Not really sure how to feel about these. Leaning towards saying they're **not** normally distributed. At the very least, they seem to show right-skewedness. Let's do some tests now."
   ]
  },
  {
   "cell_type": "code",
   "execution_count": 16,
   "metadata": {},
   "outputs": [
    {
     "data": {
      "text/plain": [
       "\n",
       "\tShapiro-Wilk normality test\n",
       "\n",
       "data:  engNV$Phono.Length\n",
       "W = 0.90786, p-value = 5.066e-07\n"
      ]
     },
     "metadata": {},
     "output_type": "display_data"
    }
   ],
   "source": [
    "shapiro.test(engNV$Phono.Length)"
   ]
  },
  {
   "cell_type": "markdown",
   "metadata": {},
   "source": [
    "The `p-value` here being less than .05 means the data are almost certainly not normally distributed. On to duration."
   ]
  },
  {
   "cell_type": "code",
   "execution_count": 17,
   "metadata": {},
   "outputs": [
    {
     "data": {
      "image/png": "[encoded data removed]",
      "text/plain": [
       "Plot with title \"Normal Q-Q Plot\""
      ]
     },
     "metadata": {},
     "output_type": "display_data"
    }
   ],
   "source": [
    "options(repr.plot.width=4, repr.plot.height=4)\n",
    "qqnorm(engNV$Dur)\n",
    "qqline(engNV$Dur)"
   ]
  },
  {
   "cell_type": "code",
   "execution_count": 18,
   "metadata": {},
   "outputs": [
    {
     "name": "stderr",
     "output_type": "stream",
     "text": [
      "`stat_bin()` using `bins = 30`. Pick better value with `binwidth`.\n"
     ]
    },
    {
     "data": {
      "image/png": "[encoded data removed]",
      "text/plain": [
       "plot without title"
      ]
     },
     "metadata": {},
     "output_type": "display_data"
    }
   ],
   "source": [
    "# First time, not log transforming the duration values\n",
    "ggplot(engNV, aes(Dur), ..density..) +\n",
    "  geom_histogram() +\n",
    "  geom_density() +\n",
    "  xlab(\"Duration in seconds\")"
   ]
  },
  {
   "cell_type": "code",
   "execution_count": 19,
   "metadata": {},
   "outputs": [
    {
     "name": "stderr",
     "output_type": "stream",
     "text": [
      "`stat_bin()` using `bins = 30`. Pick better value with `binwidth`.\n"
     ]
    },
    {
     "data": {
      "image/png": "[encoded data removed]",
      "text/plain": [
       "plot without title"
      ]
     },
     "metadata": {},
     "output_type": "display_data"
    }
   ],
   "source": [
    "# Second time, log transforming the duration values\n",
    "ggplot(engNV, aes(log(Dur), ..density..)) +\n",
    "  geom_histogram() +\n",
    "  geom_density() +\n",
    "  xlab(\"log(Duration in seconds)\")"
   ]
  },
  {
   "cell_type": "markdown",
   "metadata": {},
   "source": [
    "These look somewhat better than the phonological length ones, but probably also right-skewed. Seems like a good time to try and remove outliers. Let's also do a normality test for good measure."
   ]
  },
  {
   "cell_type": "code",
   "execution_count": 20,
   "metadata": {},
   "outputs": [
    {
     "data": {
      "text/plain": [
       "\n",
       "\tShapiro-Wilk normality test\n",
       "\n",
       "data:  engNV$Dur\n",
       "W = 0.95906, p-value = 0.001064\n"
      ]
     },
     "metadata": {},
     "output_type": "display_data"
    }
   ],
   "source": [
    "shapiro.test(engNV$Dur)"
   ]
  },
  {
   "cell_type": "markdown",
   "metadata": {},
   "source": [
    "Again, not normally distributed, whether log transformed or not.\n",
    "\n",
    "**`# Should we expect any of the residuals to be autocorrelated? (Are they capturing change over time?)`**\n",
    "**MEETS ASSUMPTION:** YES\n",
    "\n",
    "No, I don't think we should expect them to be autocorrelated. We're not working with time series data or anything that might be set off kilter as a result of another sample. As far as phonological length is concerned, one should never be able to impact another in these data. Same goes for word duration in seconds.\n",
    "\n",
    "**`Is the combination of these variables (the bivariate distribution) normally distributed? You may use the function mvnorm.etest() from the energy package to answer this question, or if you think we can skip this test,\n",
    "you may explain your reasoning.`**\n",
    "**MEETS ASSUMPTION:** YES (n > 30)\n",
    "\n",
    "I think we could reasonably skip this test since we have > 30 observations of data in this set and we've established that the univariate distributions of each variable are not normally distrbuted, but for the sake of practicing, I'm going to run it and try to interpret it for these ones."
   ]
  },
  {
   "cell_type": "code",
   "execution_count": 21,
   "metadata": {},
   "outputs": [
    {
     "name": "stderr",
     "output_type": "stream",
     "text": [
      "Warning message:\n",
      "\"package 'energy' was built under R version 3.6.2\""
     ]
    },
    {
     "data": {
      "text/plain": [
       "\n",
       "\tEnergy test of multivariate normality: (Specify R > 0 for MC test)\n",
       "\n",
       "data:  x, sample size 120, dimension 2, replicates 0\n",
       "E-statistic = 1.717, p-value = NA\n"
      ]
     },
     "metadata": {},
     "output_type": "display_data"
    }
   ],
   "source": [
    "# Loading the 'energy' library\n",
    "library(energy)\n",
    "\n",
    "mvnorm.etest(cbind(engNV$Phono.Length, engNV$Dur))"
   ]
  },
  {
   "cell_type": "markdown",
   "metadata": {},
   "source": [
    "Well that's a conundrum. I don't know how to interpret a p-value of 'NA' here, but at any rate, hopefully this is just a case where we can ignore it? I'm also wondering if this is one of the convergence cases we were talking about during office hours on Wednesday? \n",
    "\n",
    "**(Editorial Note: this missing p-value was a result of missing an argument in the code, I just left it on to avoid redoing my analysis for this demonstration. The full code should be `mvnorm.etest(cbind(engNV$Phono.Length, engNV$Dur), R = 200)`)**\n",
    "\n",
    "**`Are the residuals homoscedastic? How can you tell?`**\n",
    "\n",
    "**MEETS ASSUMPTION:** YES"
   ]
  },
  {
   "cell_type": "code",
   "execution_count": 22,
   "metadata": {},
   "outputs": [
    {
     "data": {
      "image/png": "[encoded data removed]",
      "text/plain": [
       "plot without title"
      ]
     },
     "metadata": {},
     "output_type": "display_data"
    }
   ],
   "source": [
    "# Let's plot a linear model for these two variables, phonological length and word duration\n",
    "\n",
    "ggplot(engNV, aes(Phono.Length, Dur)) +\n",
    "  geom_point() +\n",
    "  geom_smooth(method=\"lm\")"
   ]
  },
  {
   "cell_type": "markdown",
   "metadata": {},
   "source": [
    "Things look pretty good here. No crazy variations in clustering/residual length at either end or any particular spot.\n",
    "\n",
    "\n",
    "**`Is the relationship monotonic and linear? How can you tell?`**\n",
    "\n",
    "**MEETS ASSUMPTION:** NO"
   ]
  },
  {
   "cell_type": "code",
   "execution_count": 23,
   "metadata": {},
   "outputs": [
    {
     "name": "stderr",
     "output_type": "stream",
     "text": [
      "`geom_smooth()` using method = 'loess' and formula 'y ~ x'\n",
      "Warning message in simpleLoess(y, x, w, span, degree = degree, parametric = parametric, :\n",
      "\"pseudoinverse used at 5\"Warning message in simpleLoess(y, x, w, span, degree = degree, parametric = parametric, :\n",
      "\"neighborhood radius 1\"Warning message in simpleLoess(y, x, w, span, degree = degree, parametric = parametric, :\n",
      "\"reciprocal condition number  0\"Warning message in predLoess(object$y, object$x, newx = if (is.null(newdata)) object$x else if (is.data.frame(newdata)) as.matrix(model.frame(delete.response(terms(object)), :\n",
      "\"pseudoinverse used at 5\"Warning message in predLoess(object$y, object$x, newx = if (is.null(newdata)) object$x else if (is.data.frame(newdata)) as.matrix(model.frame(delete.response(terms(object)), :\n",
      "\"neighborhood radius 1\"Warning message in predLoess(object$y, object$x, newx = if (is.null(newdata)) object$x else if (is.data.frame(newdata)) as.matrix(model.frame(delete.response(terms(object)), :\n",
      "\"reciprocal condition number  0\""
     ]
    },
    {
     "data": {
      "image/png": "[encoded data removed]",
      "text/plain": [
       "plot without title"
      ]
     },
     "metadata": {},
     "output_type": "display_data"
    }
   ],
   "source": [
    "ggplot(engNV, aes(Phono.Length, Dur)) +\n",
    "  geom_point() +\n",
    "  geom_smooth()"
   ]
  },
  {
   "cell_type": "markdown",
   "metadata": {},
   "source": [
    "The line in the fitted linear model above is going in one direction in a mostly-straight line (linear) but it seems to dip slightly in the middle, so I don't think it can exactly be called `monotonic`. On the other hand, it's a VERY tiny dip.\n",
    "\n",
    "**`Given your answers to the preceding questions, do you think it's better to run the parametric test (Pearson's r) or one of the non-parametric tests (Spearman's rho or Kendall's tau)? Explain your choice briefly, then run the test and interpret the output (see below for specific questions).`**\n",
    "\n",
    "I think the responsible thing to do would be to use a **non-parametric test** like `Spearman's rho` or `Kendall's tau`, but at the same time, the sample size was fairly large and the only violated assumptions had to do with their normality and a very small dip in the line. I'm going to stick with a `Kendall` test out of an abundance of caution, but it doesn't seem terribly egregious to use `Pearson's r` here instead. I'm electing to use `Kendall's tau` over `Spearman's rho` since the book notes that it can handle ties more adeptly, and multiple observations of data share value for phonological length."
   ]
  },
  {
   "cell_type": "code",
   "execution_count": 24,
   "metadata": {},
   "outputs": [
    {
     "data": {
      "text/plain": [
       "\n",
       "\tKendall's rank correlation tau\n",
       "\n",
       "data:  engNV$Phono.Length and engNV$Dur\n",
       "z = 6.6404, p-value = 1.564e-11\n",
       "alternative hypothesis: true tau is greater than 0\n",
       "sample estimates:\n",
       "     tau \n",
       "0.457592 \n"
      ]
     },
     "metadata": {},
     "output_type": "display_data"
    }
   ],
   "source": [
    "# Using 'k' for 'Kendall's tau' and 'g' since we know the slope is\n",
    "# positive and means the correlation should be greater than 0\n",
    "cor.test(engNV$Phono.Length, engNV$Dur, method=\"k\", alternative=\"g\")"
   ]
  },
  {
   "cell_type": "markdown",
   "metadata": {},
   "source": [
    "**`What is the correlation coefficient, and what does that value tell you?`**\n",
    "\n",
    "The correlation coeffecient (`tau`, here) is **.457592**, meaning that there is a positive relationship between phonological length and duration: as one increases, so does the other, although we don't know by how much just from this alone. For social sciences, I believe this would be a **weak correlation.**\n",
    "\n",
    "**`What is the value of the test statistic, and what is the p-value associated with it?  What does the p-value tell you?`**\n",
    "\n",
    "The value of the test statistic `(z)` is **6.6404** and the `p-value` is **1.564e-11**, which is well below an `alpha` level of .05. Although the correlation may be weak, *it is highly significant according to our `p-value`.* The test statistic itself isn't entirely clear to me, if I'm being honest, unless I'm misunderstanding what the test statistic is in this case? In any case, the main takeaway is that there is a weak but significant correlation between phonological length and word duration in seconds, which makes intuitive sense: the longer a word in phonemes (or maybe really articulatory gestures?), the longer it should theoretically take to say it in most cases.\n",
    "\n",
    "### Correlation #2\n",
    "...\n",
    "___\n",
    "\n",
    "This concludes the demonstration! So now that you've had a chance to see Jupyter Notebook in action, the big question is: what are the pros and cons?\n",
    "\n",
    "[Back to Top](#top)"
   ]
  },
  {
   "cell_type": "markdown",
   "metadata": {},
   "source": [
    "## Section 4: Conclusion <a name=\"conclusion\"></a>\n",
    "As a parting consideration, I'm going to outline below what I think are the pros and cons behind working in Jupyter Notebook. I hope you've found this guide useful, and if you have any questions, please feel free to reach out to me at the email listed above! Happy coding!\n",
    "\n",
    "### 4.1 Why use R in Jupyter Notebook? <a name=\"pros\"></a>\n",
    "* Presentation, presentation, presentation! Jupyter Notebook is sleek, stylish, and industry standard for professional data science. It's much easier on the eyes than sifting through an R script.\n",
    "* Better presentation means easier sharability, which I'll cover below. This makes it easier to distribute your code and let people try to replicate your findings.\n",
    "* On a similar note, the ability to use Markdown cells for organization within a Notebook means that a reader can very easily orient themselves in a well-structured document. Whether this reader is your future self or anyone who reviews your work, this means that they'll have an easier time of understanding your thought process.\n",
    "* The coding itself is exactly the same and the output is exactly the same; there's little learning curve beyond what you already know once you have it set up. The biggest thing to adapt to is working with markdown cells, which should quickly become intuitive with practice.\n",
    "* Very easy to copy/paste code into Jupyter Notebook after having worked on it in R Studio or base R. In fact, I did this for the demonstration without having to alter any of my code (besides adding markdown and deleting extraneous `#` symbols!\n",
    "* Once you get into a groove of working with markdown and code cells in tandem, it's much easier to document what your code/script is doing than using `#comments` in R Studio or base R.\n",
    "\n",
    "### 4.2 Why use R in Rstudio or as a Standalone Application? <a name=\"cons\"></a>\n",
    "* More direct support through the graphical user interface (GUI) like menus, pop-up windows, etc.\n",
    "    * IN essence, it's more beginner-friendly without adding the extra hurdle of working in a new environment with lots of bells and whisles.\n",
    "    * May accordingly be more difficult to install packages; you have to do it manually via CRAN, might need to move some files around, etc.\n",
    "* Doesn’t save your R environment (variables, loaded packages, models, etc.) as far as I know; you have to manuall re-run your code to get back up to speed once you close the Notebook.\n",
    "    * On the plus side, the code will never disappear unless you delete it!\n",
    "\n",
    "### 4.3 Exporting the Final Product <a name=\"export\"></a>\n",
    "The easiest way to share a Jupyter Notebook for people who don't have Anaconda installed is to export it as a `.html` file in the `File` menu, selected `Download As` and save it, and send it wherever you need to. A recipient should then be able to open it with their browser of choice. They won't be able to run the code themselves, but it's fully copy/paste-able! Case in point, this Notebook will be saved and shared as a `.html` file.\n",
    "\n",
    "[Back to Top](#top)"
   ]
  }
 ],
 "metadata": {
  "kernelspec": {
   "display_name": "R",
   "language": "R",
   "name": "ir"
  },
  "language_info": {
   "codemirror_mode": "r",
   "file_extension": ".r",
   "mimetype": "text/x-r-source",
   "name": "R",
   "pygments_lexer": "r",
   "version": "3.6.1"
  }
 },
 "nbformat": 4,
 "nbformat_minor": 4
}
